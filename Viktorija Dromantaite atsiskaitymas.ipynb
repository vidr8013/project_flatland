{
  "cells": [
    {
      "cell_type": "markdown",
      "source": [
        "Glaustas darbas įvertinimui, taip pat yra įkeltas ir kitas darbas su visais bandymais ir eksperimentais."
      ],
      "metadata": {
        "id": "AudWU4xOGDZT"
      },
      "id": "AudWU4xOGDZT"
    },
    {
      "cell_type": "code",
      "execution_count": 154,
      "id": "f2374b7e",
      "metadata": {
        "gradient": {
          "editing": false,
          "id": "f2374b7e",
          "kernelId": ""
        },
        "id": "f2374b7e"
      },
      "outputs": [],
      "source": [
        "import gzip\n",
        "import numpy as np\n",
        "import pickle\n",
        "from tensorflow import keras\n",
        "import matplotlib.pyplot as plt\n",
        "import pandas as pd\n",
        "\n",
        "def evaluate(path, model):\n",
        "    X, y = pickle.load(gzip.open(path, 'rb'))\n",
        "    y[y != 0] -= 2\n",
        "    X = X / 255.\n",
        "    acc = np.mean(model(X).numpy().argmax(axis=1) == y)\n",
        "    return acc"
      ]
    },
    {
      "cell_type": "code",
      "execution_count": 155,
      "id": "d085164d",
      "metadata": {
        "gradient": {
          "editing": false,
          "id": "d085164d",
          "kernelId": ""
        },
        "id": "d085164d"
      },
      "outputs": [],
      "source": [
        "path = 'flatland_train.data' \n",
        "X, y = pickle.load(gzip.open(path, 'rb'))\n",
        "y[y != 0] -= 2 \n",
        "X = X / 255. "
      ]
    },
    {
      "cell_type": "code",
      "execution_count": 156,
      "id": "4bfa1099",
      "metadata": {
        "gradient": {
          "editing": false,
          "id": "4bfa1099",
          "kernelId": ""
        },
        "colab": {
          "base_uri": "https://localhost:8080/"
        },
        "id": "4bfa1099",
        "outputId": "5f5c5428-2bd6-4c1a-9df5-2e3252ab0e10"
      },
      "outputs": [
        {
          "output_type": "execute_result",
          "data": {
            "text/plain": [
              "(10000, 50, 50)"
            ]
          },
          "metadata": {},
          "execution_count": 156
        }
      ],
      "source": [
        "X.shape"
      ]
    },
    {
      "cell_type": "code",
      "execution_count": 157,
      "id": "83982f69",
      "metadata": {
        "id": "83982f69"
      },
      "outputs": [],
      "source": [
        "from sklearn.model_selection import train_test_split\n",
        "X_train, X_test, y_train, y_test = train_test_split(X, y, random_state = 42)"
      ]
    },
    {
      "cell_type": "code",
      "execution_count": 158,
      "id": "79f011f3",
      "metadata": {
        "colab": {
          "base_uri": "https://localhost:8080/"
        },
        "id": "79f011f3",
        "outputId": "9f669d78-74d4-4b75-9b62-b642a2006f5f"
      },
      "outputs": [
        {
          "output_type": "execute_result",
          "data": {
            "text/plain": [
              "(7500, 50, 50)"
            ]
          },
          "metadata": {},
          "execution_count": 158
        }
      ],
      "source": [
        "X_train.shape"
      ]
    },
    {
      "cell_type": "code",
      "execution_count": 159,
      "id": "5d4ad9e2",
      "metadata": {
        "colab": {
          "base_uri": "https://localhost:8080/"
        },
        "id": "5d4ad9e2",
        "outputId": "7951e408-db84-4a80-e2dd-b69d98d91f1d"
      },
      "outputs": [
        {
          "output_type": "execute_result",
          "data": {
            "text/plain": [
              "(2500, 50, 50)"
            ]
          },
          "metadata": {},
          "execution_count": 159
        }
      ],
      "source": [
        "X_test.shape"
      ]
    },
    {
      "cell_type": "code",
      "execution_count": 160,
      "id": "a1bbe18d",
      "metadata": {
        "colab": {
          "base_uri": "https://localhost:8080/",
          "height": 284
        },
        "id": "a1bbe18d",
        "outputId": "faf53ac8-a6cf-402e-acef-73e8345c185a"
      },
      "outputs": [
        {
          "output_type": "execute_result",
          "data": {
            "text/plain": [
              "<matplotlib.image.AxesImage at 0x7f0b51e766d0>"
            ]
          },
          "metadata": {},
          "execution_count": 160
        },
        {
          "output_type": "display_data",
          "data": {
            "image/png": "[encoded data removed]",
            "text/plain": [
              "<Figure size 432x288 with 1 Axes>"
            ]
          },
          "metadata": {
            "needs_background": "light"
          }
        }
      ],
      "source": [
        "plt.imshow(X_test[0],cmap='gray')"
      ]
    },
    {
      "cell_type": "code",
      "execution_count": 161,
      "id": "cffaa0cd",
      "metadata": {
        "colab": {
          "base_uri": "https://localhost:8080/",
          "height": 77
        },
        "id": "cffaa0cd",
        "outputId": "a1d13cce-5b49-4486-982e-0a2cfd44bda7"
      },
      "outputs": [
        {
          "output_type": "display_data",
          "data": {
            "image/png": "[encoded data removed]",
            "text/plain": [
              "<Figure size 720x720 with 10 Axes>"
            ]
          },
          "metadata": {
            "needs_background": "light"
          }
        }
      ],
      "source": [
        "plt.figure(figsize=(10, 10))\n",
        "for i in range(10):\n",
        "        plt.subplot(10, 10, 10 + i + 1)\n",
        "        plt.imshow(X_test[i], cmap='gray')\n",
        "        plt.axis('off')\n",
        "plt.show()"
      ]
    },
    {
      "cell_type": "code",
      "execution_count": 162,
      "id": "fa046f93",
      "metadata": {
        "colab": {
          "base_uri": "https://localhost:8080/",
          "height": 105
        },
        "id": "fa046f93",
        "outputId": "204e255b-a119-4232-8937-4a2e9485f214"
      },
      "outputs": [
        {
          "output_type": "display_data",
          "data": {
            "image/png": "[encoded data removed]",
            "text/plain": [
              "<Figure size 432x288 with 5 Axes>"
            ]
          },
          "metadata": {
            "needs_background": "light"
          }
        }
      ],
      "source": [
        "for i in range(5):\n",
        "    idx= np.where(y_train == i)[0][0]\n",
        "    plt.subplot(1,5,i+1)\n",
        "    plt.imshow(X_train[idx],cmap='gray')\n",
        "    plt.title(i)\n",
        "    plt.axis('off')\n",
        "plt.show()"
      ]
    },
    {
      "cell_type": "code",
      "source": [
        "model = keras.models.Sequential()\n",
        "model.add(keras.layers.Conv2D(32, kernel_size=(3, 3), activation='relu', input_shape=[50, 50, 1])) \n",
        "model.add(keras.layers.BatchNormalization(axis=-1)) \n",
        "model.add(keras.layers.MaxPooling2D(pool_size=(2, 2)))\n",
        "model.add(keras.layers.Conv2D(32, kernel_size=(3, 3), activation='relu'))  \n",
        "model.add(keras.layers.BatchNormalization(axis=-1))\n",
        "model.add(keras.layers.MaxPooling2D(pool_size=(2, 2)))\n",
        "model.add(keras.layers.Conv2D(32, kernel_size=(3, 3), activation='relu'))  \n",
        "model.add(keras.layers.BatchNormalization(axis=-1))\n",
        "model.add(keras.layers.MaxPooling2D(pool_size=(2, 2)))\n",
        "\n",
        "model.add(keras.layers.Flatten())\n",
        "model.add(keras.layers.Dense(64, activation='relu'))\n",
        "model.add(keras.layers.Dense(16, activation='relu'))\n",
        "model.add(keras.layers.Dense(8, activation='softmax'))\n",
        "model.compile(loss=\"sparse_categorical_crossentropy\",\n",
        "              optimizer=\"Adam\",\n",
        "              metrics=[\"accuracy\"])\n",
        "model.summary()"
      ],
      "metadata": {
        "colab": {
          "base_uri": "https://localhost:8080/"
        },
        "id": "M81iqlY746h4",
        "outputId": "6658f982-001d-4cbe-f69d-1d4e4c18c58c"
      },
      "id": "M81iqlY746h4",
      "execution_count": 163,
      "outputs": [
        {
          "output_type": "stream",
          "name": "stdout",
          "text": [
            "Model: \"sequential_47\"\n",
            "_________________________________________________________________\n",
            " Layer (type)                Output Shape              Param #   \n",
            "=================================================================\n",
            " conv2d_103 (Conv2D)         (None, 48, 48, 32)        320       \n",
            "                                                                 \n",
            " batch_normalization_103 (Ba  (None, 48, 48, 32)       128       \n",
            " tchNormalization)                                               \n",
            "                                                                 \n",
            " max_pooling2d_103 (MaxPooli  (None, 24, 24, 32)       0         \n",
            " ng2D)                                                           \n",
            "                                                                 \n",
            " conv2d_104 (Conv2D)         (None, 22, 22, 32)        9248      \n",
            "                                                                 \n",
            " batch_normalization_104 (Ba  (None, 22, 22, 32)       128       \n",
            " tchNormalization)                                               \n",
            "                                                                 \n",
            " max_pooling2d_104 (MaxPooli  (None, 11, 11, 32)       0         \n",
            " ng2D)                                                           \n",
            "                                                                 \n",
            " conv2d_105 (Conv2D)         (None, 9, 9, 32)          9248      \n",
            "                                                                 \n",
            " batch_normalization_105 (Ba  (None, 9, 9, 32)         128       \n",
            " tchNormalization)                                               \n",
            "                                                                 \n",
            " max_pooling2d_105 (MaxPooli  (None, 4, 4, 32)         0         \n",
            " ng2D)                                                           \n",
            "                                                                 \n",
            " flatten_47 (Flatten)        (None, 512)               0         \n",
            "                                                                 \n",
            " dense_139 (Dense)           (None, 64)                32832     \n",
            "                                                                 \n",
            " dense_140 (Dense)           (None, 16)                1040      \n",
            "                                                                 \n",
            " dense_141 (Dense)           (None, 8)                 136       \n",
            "                                                                 \n",
            "=================================================================\n",
            "Total params: 53,208\n",
            "Trainable params: 53,016\n",
            "Non-trainable params: 192\n",
            "_________________________________________________________________\n"
          ]
        }
      ]
    },
    {
      "cell_type": "code",
      "source": [
        "loss = model.fit(X_train, y_train, validation_data=(X_test, y_test), epochs=10)"
      ],
      "metadata": {
        "colab": {
          "base_uri": "https://localhost:8080/"
        },
        "id": "JDjTQ_1z46mo",
        "outputId": "290c97f7-2911-4e22-8699-fee52698e916"
      },
      "id": "JDjTQ_1z46mo",
      "execution_count": 164,
      "outputs": [
        {
          "output_type": "stream",
          "name": "stdout",
          "text": [
            "Epoch 1/10\n",
            "235/235 [==============================] - 4s 12ms/step - loss: 0.9724 - accuracy: 0.6285 - val_loss: 3.7418 - val_accuracy: 0.1516\n",
            "Epoch 2/10\n",
            "235/235 [==============================] - 3s 14ms/step - loss: 0.2991 - accuracy: 0.9168 - val_loss: 3.5366 - val_accuracy: 0.1532\n",
            "Epoch 3/10\n",
            "235/235 [==============================] - 3s 11ms/step - loss: 0.1834 - accuracy: 0.9599 - val_loss: 0.3981 - val_accuracy: 0.8708\n",
            "Epoch 4/10\n",
            "235/235 [==============================] - 3s 12ms/step - loss: 0.1433 - accuracy: 0.9707 - val_loss: 0.2141 - val_accuracy: 0.9652\n",
            "Epoch 5/10\n",
            "235/235 [==============================] - 3s 13ms/step - loss: 0.1147 - accuracy: 0.9748 - val_loss: 0.1795 - val_accuracy: 0.9676\n",
            "Epoch 6/10\n",
            "235/235 [==============================] - 3s 11ms/step - loss: 0.0914 - accuracy: 0.9807 - val_loss: 0.2210 - val_accuracy: 0.9552\n",
            "Epoch 7/10\n",
            "235/235 [==============================] - 3s 11ms/step - loss: 0.0802 - accuracy: 0.9807 - val_loss: 0.2187 - val_accuracy: 0.9636\n",
            "Epoch 8/10\n",
            "235/235 [==============================] - 3s 11ms/step - loss: 0.0606 - accuracy: 0.9856 - val_loss: 0.2113 - val_accuracy: 0.9728\n",
            "Epoch 9/10\n",
            "235/235 [==============================] - 3s 13ms/step - loss: 0.0699 - accuracy: 0.9796 - val_loss: 0.2440 - val_accuracy: 0.9628\n",
            "Epoch 10/10\n",
            "235/235 [==============================] - 3s 11ms/step - loss: 0.0557 - accuracy: 0.9857 - val_loss: 0.2011 - val_accuracy: 0.9748\n"
          ]
        }
      ]
    },
    {
      "cell_type": "code",
      "source": [
        "pred = model.predict(X_test).argmax(axis=1)\n",
        "\n",
        "print('Accuracy on test set - {0:.02%}'.format((pred == y_test).mean()))"
      ],
      "metadata": {
        "colab": {
          "base_uri": "https://localhost:8080/"
        },
        "id": "ddF4h39Gw-Fl",
        "outputId": "1168c79e-2ec9-4269-bd8a-91a8df9c5d6f"
      },
      "id": "ddF4h39Gw-Fl",
      "execution_count": 168,
      "outputs": [
        {
          "output_type": "stream",
          "name": "stdout",
          "text": [
            "Accuracy on test set - 97.48%\n"
          ]
        }
      ]
    },
    {
      "cell_type": "code",
      "execution_count": 169,
      "id": "16876d54",
      "metadata": {
        "gradient": {
          "editing": false,
          "id": "16876d54",
          "kernelId": ""
        },
        "id": "16876d54"
      },
      "outputs": [],
      "source": [
        "model.save('modelis.h5')"
      ]
    },
    {
      "cell_type": "code",
      "source": [
        "model = keras.models.load_model('modelis.h5')\n",
        "evaluate('flatland_train.data', model)"
      ],
      "metadata": {
        "colab": {
          "base_uri": "https://localhost:8080/"
        },
        "id": "38VMWZqhy4v_",
        "outputId": "c230d25a-27d2-4a89-cedf-4b9eb1da79bb"
      },
      "id": "38VMWZqhy4v_",
      "execution_count": 170,
      "outputs": [
        {
          "output_type": "execute_result",
          "data": {
            "text/plain": [
              "0.9872"
            ]
          },
          "metadata": {},
          "execution_count": 170
        }
      ]
    }
  ],
  "metadata": {
    "kernelspec": {
      "display_name": "Python 3 (ipykernel)",
      "language": "python",
      "name": "python3"
    },
    "language_info": {
      "codemirror_mode": {
        "name": "ipython",
        "version": 3
      },
      "file_extension": ".py",
      "mimetype": "text/x-python",
      "name": "python",
      "nbconvert_exporter": "python",
      "pygments_lexer": "ipython3",
      "version": "3.8.10"
    },
    "colab": {
      "name": "AI_VIKTORIJA (1).ipynb",
      "provenance": [],
      "collapsed_sections": []
    },
    "accelerator": "GPU"
  },
  "nbformat": 4,
  "nbformat_minor": 5
}