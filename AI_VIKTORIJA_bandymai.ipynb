{
  "cells": [
    {
      "cell_type": "code",
      "execution_count": 3,
      "id": "f2374b7e",
      "metadata": {
        "gradient": {
          "editing": false,
          "id": "f2374b7e",
          "kernelId": ""
        },
        "id": "f2374b7e"
      },
      "outputs": [],
      "source": [
        "import gzip\n",
        "import numpy as np\n",
        "import pickle\n",
        "from tensorflow import keras\n",
        "import matplotlib.pyplot as plt\n",
        "import pandas as pd\n",
        "\n",
        "def evaluate(path, model):\n",
        "    X, y = pickle.load(gzip.open(path, 'rb'))\n",
        "    y[y != 0] -= 2\n",
        "    X = X / 255.\n",
        "    acc = np.mean(model(X).numpy().argmax(axis=1) == y)\n",
        "    return acc"
      ]
    },
    {
      "cell_type": "code",
      "execution_count": 4,
      "id": "d085164d",
      "metadata": {
        "gradient": {
          "editing": false,
          "id": "d085164d",
          "kernelId": ""
        },
        "id": "d085164d"
      },
      "outputs": [],
      "source": [
        "path = 'flatland_train.data' \n",
        "X, y = pickle.load(gzip.open(path, 'rb'))\n",
        "y[y != 0] -= 2 \n",
        "X = X / 255. "
      ]
    },
    {
      "cell_type": "code",
      "execution_count": 5,
      "id": "4bfa1099",
      "metadata": {
        "gradient": {
          "editing": false,
          "id": "4bfa1099",
          "kernelId": ""
        },
        "colab": {
          "base_uri": "https://localhost:8080/"
        },
        "id": "4bfa1099",
        "outputId": "ab188df6-3734-43bd-e02f-856edc9d8ca6"
      },
      "outputs": [
        {
          "output_type": "execute_result",
          "data": {
            "text/plain": [
              "(10000, 50, 50)"
            ]
          },
          "metadata": {},
          "execution_count": 5
        }
      ],
      "source": [
        "X.shape"
      ]
    },
    {
      "cell_type": "code",
      "execution_count": 6,
      "id": "83982f69",
      "metadata": {
        "id": "83982f69"
      },
      "outputs": [],
      "source": [
        "from sklearn.model_selection import train_test_split\n",
        "X_train, X_test, y_train, y_test = train_test_split(X, y, random_state = 42)"
      ]
    },
    {
      "cell_type": "code",
      "execution_count": 7,
      "id": "79f011f3",
      "metadata": {
        "colab": {
          "base_uri": "https://localhost:8080/"
        },
        "id": "79f011f3",
        "outputId": "d4aafc0b-3aee-4033-e677-3324eb986161"
      },
      "outputs": [
        {
          "output_type": "execute_result",
          "data": {
            "text/plain": [
              "(7500, 50, 50)"
            ]
          },
          "metadata": {},
          "execution_count": 7
        }
      ],
      "source": [
        "X_train.shape"
      ]
    },
    {
      "cell_type": "code",
      "execution_count": 8,
      "id": "5d4ad9e2",
      "metadata": {
        "colab": {
          "base_uri": "https://localhost:8080/"
        },
        "id": "5d4ad9e2",
        "outputId": "df603515-f0d3-4808-f973-1171b3cc132b"
      },
      "outputs": [
        {
          "output_type": "execute_result",
          "data": {
            "text/plain": [
              "(2500, 50, 50)"
            ]
          },
          "metadata": {},
          "execution_count": 8
        }
      ],
      "source": [
        "X_test.shape"
      ]
    },
    {
      "cell_type": "code",
      "execution_count": 9,
      "id": "a1bbe18d",
      "metadata": {
        "colab": {
          "base_uri": "https://localhost:8080/",
          "height": 284
        },
        "id": "a1bbe18d",
        "outputId": "7da33c06-facb-4ac4-df50-f499ebb9e0fa"
      },
      "outputs": [
        {
          "output_type": "execute_result",
          "data": {
            "text/plain": [
              "<matplotlib.image.AxesImage at 0x7f0bd0549450>"
            ]
          },
          "metadata": {},
          "execution_count": 9
        },
        {
          "output_type": "display_data",
          "data": {
            "image/png": "[encoded data removed]",
            "text/plain": [
              "<Figure size 432x288 with 1 Axes>"
            ]
          },
          "metadata": {
            "needs_background": "light"
          }
        }
      ],
      "source": [
        "plt.imshow(X_test[0],cmap='gray')"
      ]
    },
    {
      "cell_type": "code",
      "execution_count": 10,
      "id": "cffaa0cd",
      "metadata": {
        "colab": {
          "base_uri": "https://localhost:8080/",
          "height": 77
        },
        "id": "cffaa0cd",
        "outputId": "136b767f-7323-49f2-bfc9-a1523cf38f64"
      },
      "outputs": [
        {
          "output_type": "display_data",
          "data": {
            "image/png": "[encoded data removed]",
            "text/plain": [
              "<Figure size 720x720 with 10 Axes>"
            ]
          },
          "metadata": {
            "needs_background": "light"
          }
        }
      ],
      "source": [
        "plt.figure(figsize=(10, 10))\n",
        "for i in range(10):\n",
        "        plt.subplot(10, 10, 10 + i + 1)\n",
        "        plt.imshow(X_test[i], cmap='gray')\n",
        "        plt.axis('off')\n",
        "plt.show()"
      ]
    },
    {
      "cell_type": "code",
      "execution_count": 11,
      "id": "fa046f93",
      "metadata": {
        "colab": {
          "base_uri": "https://localhost:8080/",
          "height": 105
        },
        "id": "fa046f93",
        "outputId": "c16d7846-2f90-4f71-f8db-b94a12286264"
      },
      "outputs": [
        {
          "output_type": "display_data",
          "data": {
            "image/png": "[encoded data removed]",
            "text/plain": [
              "<Figure size 432x288 with 5 Axes>"
            ]
          },
          "metadata": {
            "needs_background": "light"
          }
        }
      ],
      "source": [
        "for i in range(5):\n",
        "    idx= np.where(y_train == i)[0][0]\n",
        "    plt.subplot(1,5,i+1)\n",
        "    plt.imshow(X_train[idx],cmap='gray')\n",
        "    plt.title(i)\n",
        "    plt.axis('off')\n",
        "plt.show()"
      ]
    },
    {
      "cell_type": "markdown",
      "id": "0dc48577",
      "metadata": {
        "gradient": {
          "editing": false,
          "id": "0dc48577",
          "kernelId": ""
        },
        "id": "0dc48577"
      },
      "source": [
        "### DNN"
      ]
    },
    {
      "cell_type": "code",
      "execution_count": 12,
      "id": "e963c9c5",
      "metadata": {
        "colab": {
          "base_uri": "https://localhost:8080/"
        },
        "id": "e963c9c5",
        "outputId": "db0f544b-7f53-42ff-d194-6736789541bb"
      },
      "outputs": [
        {
          "output_type": "stream",
          "name": "stdout",
          "text": [
            "Model: \"sequential\"\n",
            "_________________________________________________________________\n",
            " Layer (type)                Output Shape              Param #   \n",
            "=================================================================\n",
            " flatten (Flatten)           (None, 2500)              0         \n",
            "                                                                 \n",
            " dense (Dense)               (None, 20)                50020     \n",
            "                                                                 \n",
            " dense_1 (Dense)             (None, 5)                 105       \n",
            "                                                                 \n",
            "=================================================================\n",
            "Total params: 50,125\n",
            "Trainable params: 50,125\n",
            "Non-trainable params: 0\n",
            "_________________________________________________________________\n"
          ]
        }
      ],
      "source": [
        "model = keras.models.Sequential()\n",
        "model.add(keras.layers.Flatten(input_shape = (50, 50)))\n",
        "model.add(keras.layers.Dense(20, activation = 'relu'))\n",
        "model.add(keras.layers.Dense(5, activation = 'softmax'))\n",
        "model.compile(loss = 'sparse_categorical_crossentropy', optimizer = 'sgd', \n",
        "              metrics = ['accuracy'])\n",
        "model.summary()"
      ]
    },
    {
      "cell_type": "code",
      "execution_count": 13,
      "id": "de076e47",
      "metadata": {
        "colab": {
          "base_uri": "https://localhost:8080/"
        },
        "id": "de076e47",
        "outputId": "fc29f014-afb4-4833-c125-b7ed965f8975"
      },
      "outputs": [
        {
          "output_type": "stream",
          "name": "stdout",
          "text": [
            "Epoch 1/10\n",
            "235/235 [==============================] - 3s 5ms/step - loss: 1.5153 - accuracy: 0.3661 - val_loss: 1.4558 - val_accuracy: 0.3936\n",
            "Epoch 2/10\n",
            "235/235 [==============================] - 1s 4ms/step - loss: 1.3737 - accuracy: 0.4372 - val_loss: 1.3631 - val_accuracy: 0.4448\n",
            "Epoch 3/10\n",
            "235/235 [==============================] - 1s 4ms/step - loss: 1.2824 - accuracy: 0.4811 - val_loss: 1.3014 - val_accuracy: 0.4680\n",
            "Epoch 4/10\n",
            "235/235 [==============================] - 1s 4ms/step - loss: 1.2274 - accuracy: 0.4963 - val_loss: 1.2719 - val_accuracy: 0.4812\n",
            "Epoch 5/10\n",
            "235/235 [==============================] - 1s 4ms/step - loss: 1.1888 - accuracy: 0.5095 - val_loss: 1.2236 - val_accuracy: 0.4948\n",
            "Epoch 6/10\n",
            "235/235 [==============================] - 1s 4ms/step - loss: 1.1560 - accuracy: 0.5205 - val_loss: 1.2071 - val_accuracy: 0.4900\n",
            "Epoch 7/10\n",
            "235/235 [==============================] - 1s 4ms/step - loss: 1.1349 - accuracy: 0.5341 - val_loss: 1.1875 - val_accuracy: 0.5028\n",
            "Epoch 8/10\n",
            "235/235 [==============================] - 1s 4ms/step - loss: 1.1110 - accuracy: 0.5379 - val_loss: 1.1866 - val_accuracy: 0.4996\n",
            "Epoch 9/10\n",
            "235/235 [==============================] - 1s 4ms/step - loss: 1.0919 - accuracy: 0.5451 - val_loss: 1.1648 - val_accuracy: 0.5060\n",
            "Epoch 10/10\n",
            "235/235 [==============================] - 1s 4ms/step - loss: 1.0698 - accuracy: 0.5589 - val_loss: 1.1421 - val_accuracy: 0.5180\n"
          ]
        }
      ],
      "source": [
        "loss = model.fit(X_train, y_train, validation_data = (X_test, y_test), epochs = 10)"
      ]
    },
    {
      "cell_type": "code",
      "execution_count": 14,
      "id": "f96e063d",
      "metadata": {
        "colab": {
          "base_uri": "https://localhost:8080/",
          "height": 363
        },
        "id": "f96e063d",
        "outputId": "f4c7e2f3-46ec-43a3-a80a-f01ee81cc6ef"
      },
      "outputs": [
        {
          "output_type": "execute_result",
          "data": {
            "text/html": [
              "\n",
              "  <div id=\"df-92c14bdd-60b8-4613-9596-245c415d912a\">\n",
              "    <div class=\"colab-df-container\">\n",
              "      <div>\n",
              "<style scoped>\n",
              "    .dataframe tbody tr th:only-of-type {\n",
              "        vertical-align: middle;\n",
              "    }\n",
              "\n",
              "    .dataframe tbody tr th {\n",
              "        vertical-align: top;\n",
              "    }\n",
              "\n",
              "    .dataframe thead th {\n",
              "        text-align: right;\n",
              "    }\n",
              "</style>\n",
              "<table border=\"1\" class=\"dataframe\">\n",
              "  <thead>\n",
              "    <tr style=\"text-align: right;\">\n",
              "      <th></th>\n",
              "      <th>loss</th>\n",
              "      <th>accuracy</th>\n",
              "      <th>val_loss</th>\n",
              "      <th>val_accuracy</th>\n",
              "    </tr>\n",
              "  </thead>\n",
              "  <tbody>\n",
              "    <tr>\n",
              "      <th>0</th>\n",
              "      <td>1.515263</td>\n",
              "      <td>0.366133</td>\n",
              "      <td>1.455755</td>\n",
              "      <td>0.3936</td>\n",
              "    </tr>\n",
              "    <tr>\n",
              "      <th>1</th>\n",
              "      <td>1.373742</td>\n",
              "      <td>0.437200</td>\n",
              "      <td>1.363108</td>\n",
              "      <td>0.4448</td>\n",
              "    </tr>\n",
              "    <tr>\n",
              "      <th>2</th>\n",
              "      <td>1.282431</td>\n",
              "      <td>0.481067</td>\n",
              "      <td>1.301429</td>\n",
              "      <td>0.4680</td>\n",
              "    </tr>\n",
              "    <tr>\n",
              "      <th>3</th>\n",
              "      <td>1.227448</td>\n",
              "      <td>0.496267</td>\n",
              "      <td>1.271929</td>\n",
              "      <td>0.4812</td>\n",
              "    </tr>\n",
              "    <tr>\n",
              "      <th>4</th>\n",
              "      <td>1.188824</td>\n",
              "      <td>0.509467</td>\n",
              "      <td>1.223556</td>\n",
              "      <td>0.4948</td>\n",
              "    </tr>\n",
              "    <tr>\n",
              "      <th>5</th>\n",
              "      <td>1.155984</td>\n",
              "      <td>0.520533</td>\n",
              "      <td>1.207063</td>\n",
              "      <td>0.4900</td>\n",
              "    </tr>\n",
              "    <tr>\n",
              "      <th>6</th>\n",
              "      <td>1.134872</td>\n",
              "      <td>0.534133</td>\n",
              "      <td>1.187473</td>\n",
              "      <td>0.5028</td>\n",
              "    </tr>\n",
              "    <tr>\n",
              "      <th>7</th>\n",
              "      <td>1.111006</td>\n",
              "      <td>0.537867</td>\n",
              "      <td>1.186616</td>\n",
              "      <td>0.4996</td>\n",
              "    </tr>\n",
              "    <tr>\n",
              "      <th>8</th>\n",
              "      <td>1.091865</td>\n",
              "      <td>0.545067</td>\n",
              "      <td>1.164816</td>\n",
              "      <td>0.5060</td>\n",
              "    </tr>\n",
              "    <tr>\n",
              "      <th>9</th>\n",
              "      <td>1.069774</td>\n",
              "      <td>0.558933</td>\n",
              "      <td>1.142092</td>\n",
              "      <td>0.5180</td>\n",
              "    </tr>\n",
              "  </tbody>\n",
              "</table>\n",
              "</div>\n",
              "      <button class=\"colab-df-convert\" onclick=\"convertToInteractive('df-92c14bdd-60b8-4613-9596-245c415d912a')\"\n",
              "              title=\"Convert this dataframe to an interactive table.\"\n",
              "              style=\"display:none;\">\n",
              "        \n",
              "  <svg xmlns=\"http://www.w3.org/2000/svg\" height=\"24px\"viewBox=\"0 0 24 24\"\n",
              "       width=\"24px\">\n",
              "    <path d=\"M0 0h24v24H0V0z\" fill=\"none\"/>\n",
              "    <path d=\"M18.56 5.44l.94 2.06.94-2.06 2.06-.94-2.06-.94-.94-2.06-.94 2.06-2.06.94zm-11 1L8.5 8.5l.94-2.06 2.06-.94-2.06-.94L8.5 2.5l-.94 2.06-2.06.94zm10 10l.94 2.06.94-2.06 2.06-.94-2.06-.94-.94-2.06-.94 2.06-2.06.94z\"/><path d=\"M17.41 7.96l-1.37-1.37c-.4-.4-.92-.59-1.43-.59-.52 0-1.04.2-1.43.59L10.3 9.45l-7.72 7.72c-.78.78-.78 2.05 0 2.83L4 21.41c.39.39.9.59 1.41.59.51 0 1.02-.2 1.41-.59l7.78-7.78 2.81-2.81c.8-.78.8-2.07 0-2.86zM5.41 20L4 18.59l7.72-7.72 1.47 1.35L5.41 20z\"/>\n",
              "  </svg>\n",
              "      </button>\n",
              "      \n",
              "  <style>\n",
              "    .colab-df-container {\n",
              "      display:flex;\n",
              "      flex-wrap:wrap;\n",
              "      gap: 12px;\n",
              "    }\n",
              "\n",
              "    .colab-df-convert {\n",
              "      background-color: #E8F0FE;\n",
              "      border: none;\n",
              "      border-radius: 50%;\n",
              "      cursor: pointer;\n",
              "      display: none;\n",
              "      fill: #1967D2;\n",
              "      height: 32px;\n",
              "      padding: 0 0 0 0;\n",
              "      width: 32px;\n",
              "    }\n",
              "\n",
              "    .colab-df-convert:hover {\n",
              "      background-color: #E2EBFA;\n",
              "      box-shadow: 0px 1px 2px rgba(60, 64, 67, 0.3), 0px 1px 3px 1px rgba(60, 64, 67, 0.15);\n",
              "      fill: #174EA6;\n",
              "    }\n",
              "\n",
              "    [theme=dark] .colab-df-convert {\n",
              "      background-color: #3B4455;\n",
              "      fill: #D2E3FC;\n",
              "    }\n",
              "\n",
              "    [theme=dark] .colab-df-convert:hover {\n",
              "      background-color: #434B5C;\n",
              "      box-shadow: 0px 1px 3px 1px rgba(0, 0, 0, 0.15);\n",
              "      filter: drop-shadow(0px 1px 2px rgba(0, 0, 0, 0.3));\n",
              "      fill: #FFFFFF;\n",
              "    }\n",
              "  </style>\n",
              "\n",
              "      <script>\n",
              "        const buttonEl =\n",
              "          document.querySelector('#df-92c14bdd-60b8-4613-9596-245c415d912a button.colab-df-convert');\n",
              "        buttonEl.style.display =\n",
              "          google.colab.kernel.accessAllowed ? 'block' : 'none';\n",
              "\n",
              "        async function convertToInteractive(key) {\n",
              "          const element = document.querySelector('#df-92c14bdd-60b8-4613-9596-245c415d912a');\n",
              "          const dataTable =\n",
              "            await google.colab.kernel.invokeFunction('convertToInteractive',\n",
              "                                                     [key], {});\n",
              "          if (!dataTable) return;\n",
              "\n",
              "          const docLinkHtml = 'Like what you see? Visit the ' +\n",
              "            '<a target=\"_blank\" href=https://colab.research.google.com/notebooks/data_table.ipynb>data table notebook</a>'\n",
              "            + ' to learn more about interactive tables.';\n",
              "          element.innerHTML = '';\n",
              "          dataTable['output_type'] = 'display_data';\n",
              "          await google.colab.output.renderOutput(dataTable, element);\n",
              "          const docLink = document.createElement('div');\n",
              "          docLink.innerHTML = docLinkHtml;\n",
              "          element.appendChild(docLink);\n",
              "        }\n",
              "      </script>\n",
              "    </div>\n",
              "  </div>\n",
              "  "
            ],
            "text/plain": [
              "       loss  accuracy  val_loss  val_accuracy\n",
              "0  1.515263  0.366133  1.455755        0.3936\n",
              "1  1.373742  0.437200  1.363108        0.4448\n",
              "2  1.282431  0.481067  1.301429        0.4680\n",
              "3  1.227448  0.496267  1.271929        0.4812\n",
              "4  1.188824  0.509467  1.223556        0.4948\n",
              "5  1.155984  0.520533  1.207063        0.4900\n",
              "6  1.134872  0.534133  1.187473        0.5028\n",
              "7  1.111006  0.537867  1.186616        0.4996\n",
              "8  1.091865  0.545067  1.164816        0.5060\n",
              "9  1.069774  0.558933  1.142092        0.5180"
            ]
          },
          "metadata": {},
          "execution_count": 14
        }
      ],
      "source": [
        "pd.DataFrame(loss.history)"
      ]
    },
    {
      "cell_type": "code",
      "execution_count": 15,
      "id": "545ebd70",
      "metadata": {
        "colab": {
          "base_uri": "https://localhost:8080/",
          "height": 282
        },
        "id": "545ebd70",
        "outputId": "eb5adbe9-598c-42b3-e88b-30fdefd13312"
      },
      "outputs": [
        {
          "output_type": "execute_result",
          "data": {
            "text/plain": [
              "<matplotlib.axes._subplots.AxesSubplot at 0x7f0bc0485d50>"
            ]
          },
          "metadata": {},
          "execution_count": 15
        },
        {
          "output_type": "display_data",
          "data": {
            "image/png": "[encoded data removed]",
            "text/plain": [
              "<Figure size 432x288 with 1 Axes>"
            ]
          },
          "metadata": {
            "needs_background": "light"
          }
        }
      ],
      "source": [
        "pd.DataFrame(loss.history)[['loss', 'val_loss']].plot()"
      ]
    },
    {
      "cell_type": "code",
      "execution_count": 16,
      "id": "e579b14a",
      "metadata": {
        "colab": {
          "base_uri": "https://localhost:8080/"
        },
        "id": "e579b14a",
        "outputId": "783fd55d-459e-4292-ef53-e91417453be7"
      },
      "outputs": [
        {
          "output_type": "stream",
          "name": "stdout",
          "text": [
            "Model: \"sequential_1\"\n",
            "_________________________________________________________________\n",
            " Layer (type)                Output Shape              Param #   \n",
            "=================================================================\n",
            " flatten_1 (Flatten)         (None, 2500)              0         \n",
            "                                                                 \n",
            " dense_2 (Dense)             (None, 128)               320128    \n",
            "                                                                 \n",
            " dense_3 (Dense)             (None, 64)                8256      \n",
            "                                                                 \n",
            " dense_4 (Dense)             (None, 16)                1040      \n",
            "                                                                 \n",
            "=================================================================\n",
            "Total params: 329,424\n",
            "Trainable params: 329,424\n",
            "Non-trainable params: 0\n",
            "_________________________________________________________________\n"
          ]
        }
      ],
      "source": [
        "model = keras.models.Sequential()\n",
        "model.add(keras.layers.Flatten(input_shape = (50, 50)))\n",
        "model.add(keras.layers.Dense(128, activation = 'relu'))\n",
        "model.add(keras.layers.Dense(64, activation = 'relu'))\n",
        "model.add(keras.layers.Dense(16, activation = 'softmax'))\n",
        "model.compile(loss = 'sparse_categorical_crossentropy', optimizer =  keras.optimizers.SGD(learning_rate = 0.01), \n",
        "              metrics = ['accuracy'])\n",
        "model.summary()"
      ]
    },
    {
      "cell_type": "code",
      "execution_count": 17,
      "id": "1d858d0a",
      "metadata": {
        "colab": {
          "base_uri": "https://localhost:8080/"
        },
        "id": "1d858d0a",
        "outputId": "468401d2-10c2-44bc-e129-8ecdbc8f579d"
      },
      "outputs": [
        {
          "output_type": "stream",
          "name": "stdout",
          "text": [
            "Epoch 1/10\n",
            "235/235 [==============================] - 2s 6ms/step - loss: 1.6504 - accuracy: 0.3813 - val_loss: 1.3804 - val_accuracy: 0.4516\n",
            "Epoch 2/10\n",
            "235/235 [==============================] - 1s 4ms/step - loss: 1.2900 - accuracy: 0.4740 - val_loss: 1.3897 - val_accuracy: 0.3812\n",
            "Epoch 3/10\n",
            "235/235 [==============================] - 1s 4ms/step - loss: 1.2055 - accuracy: 0.5020 - val_loss: 1.2768 - val_accuracy: 0.4964\n",
            "Epoch 4/10\n",
            "235/235 [==============================] - 1s 5ms/step - loss: 1.1517 - accuracy: 0.5267 - val_loss: 1.1572 - val_accuracy: 0.4980\n",
            "Epoch 5/10\n",
            "235/235 [==============================] - 1s 5ms/step - loss: 1.1036 - accuracy: 0.5409 - val_loss: 1.2658 - val_accuracy: 0.4748\n",
            "Epoch 6/10\n",
            "235/235 [==============================] - 1s 4ms/step - loss: 1.0625 - accuracy: 0.5565 - val_loss: 1.1101 - val_accuracy: 0.5456\n",
            "Epoch 7/10\n",
            "235/235 [==============================] - 1s 5ms/step - loss: 1.0200 - accuracy: 0.5839 - val_loss: 1.0788 - val_accuracy: 0.5428\n",
            "Epoch 8/10\n",
            "235/235 [==============================] - 1s 5ms/step - loss: 0.9844 - accuracy: 0.5989 - val_loss: 1.2126 - val_accuracy: 0.4908\n",
            "Epoch 9/10\n",
            "235/235 [==============================] - 2s 7ms/step - loss: 0.9401 - accuracy: 0.6227 - val_loss: 1.0338 - val_accuracy: 0.5620\n",
            "Epoch 10/10\n",
            "235/235 [==============================] - 1s 6ms/step - loss: 0.9031 - accuracy: 0.6392 - val_loss: 0.9802 - val_accuracy: 0.5856\n"
          ]
        }
      ],
      "source": [
        "loss = model.fit(X_train, y_train, validation_data = (X_test, y_test), epochs = 10)"
      ]
    },
    {
      "cell_type": "code",
      "execution_count": 18,
      "id": "ffb06d68",
      "metadata": {
        "colab": {
          "base_uri": "https://localhost:8080/",
          "height": 363
        },
        "id": "ffb06d68",
        "outputId": "fcd12611-0844-4abf-ab7c-a892fe543089"
      },
      "outputs": [
        {
          "output_type": "execute_result",
          "data": {
            "text/html": [
              "\n",
              "  <div id=\"df-2a0349a7-7ce1-474e-8c4e-2c9f295039bd\">\n",
              "    <div class=\"colab-df-container\">\n",
              "      <div>\n",
              "<style scoped>\n",
              "    .dataframe tbody tr th:only-of-type {\n",
              "        vertical-align: middle;\n",
              "    }\n",
              "\n",
              "    .dataframe tbody tr th {\n",
              "        vertical-align: top;\n",
              "    }\n",
              "\n",
              "    .dataframe thead th {\n",
              "        text-align: right;\n",
              "    }\n",
              "</style>\n",
              "<table border=\"1\" class=\"dataframe\">\n",
              "  <thead>\n",
              "    <tr style=\"text-align: right;\">\n",
              "      <th></th>\n",
              "      <th>loss</th>\n",
              "      <th>accuracy</th>\n",
              "      <th>val_loss</th>\n",
              "      <th>val_accuracy</th>\n",
              "    </tr>\n",
              "  </thead>\n",
              "  <tbody>\n",
              "    <tr>\n",
              "      <th>0</th>\n",
              "      <td>1.650381</td>\n",
              "      <td>0.381333</td>\n",
              "      <td>1.380356</td>\n",
              "      <td>0.4516</td>\n",
              "    </tr>\n",
              "    <tr>\n",
              "      <th>1</th>\n",
              "      <td>1.290020</td>\n",
              "      <td>0.474000</td>\n",
              "      <td>1.389743</td>\n",
              "      <td>0.3812</td>\n",
              "    </tr>\n",
              "    <tr>\n",
              "      <th>2</th>\n",
              "      <td>1.205491</td>\n",
              "      <td>0.502000</td>\n",
              "      <td>1.276752</td>\n",
              "      <td>0.4964</td>\n",
              "    </tr>\n",
              "    <tr>\n",
              "      <th>3</th>\n",
              "      <td>1.151677</td>\n",
              "      <td>0.526667</td>\n",
              "      <td>1.157235</td>\n",
              "      <td>0.4980</td>\n",
              "    </tr>\n",
              "    <tr>\n",
              "      <th>4</th>\n",
              "      <td>1.103584</td>\n",
              "      <td>0.540933</td>\n",
              "      <td>1.265772</td>\n",
              "      <td>0.4748</td>\n",
              "    </tr>\n",
              "    <tr>\n",
              "      <th>5</th>\n",
              "      <td>1.062517</td>\n",
              "      <td>0.556533</td>\n",
              "      <td>1.110122</td>\n",
              "      <td>0.5456</td>\n",
              "    </tr>\n",
              "    <tr>\n",
              "      <th>6</th>\n",
              "      <td>1.020049</td>\n",
              "      <td>0.583867</td>\n",
              "      <td>1.078837</td>\n",
              "      <td>0.5428</td>\n",
              "    </tr>\n",
              "    <tr>\n",
              "      <th>7</th>\n",
              "      <td>0.984369</td>\n",
              "      <td>0.598933</td>\n",
              "      <td>1.212582</td>\n",
              "      <td>0.4908</td>\n",
              "    </tr>\n",
              "    <tr>\n",
              "      <th>8</th>\n",
              "      <td>0.940074</td>\n",
              "      <td>0.622667</td>\n",
              "      <td>1.033838</td>\n",
              "      <td>0.5620</td>\n",
              "    </tr>\n",
              "    <tr>\n",
              "      <th>9</th>\n",
              "      <td>0.903140</td>\n",
              "      <td>0.639200</td>\n",
              "      <td>0.980207</td>\n",
              "      <td>0.5856</td>\n",
              "    </tr>\n",
              "  </tbody>\n",
              "</table>\n",
              "</div>\n",
              "      <button class=\"colab-df-convert\" onclick=\"convertToInteractive('df-2a0349a7-7ce1-474e-8c4e-2c9f295039bd')\"\n",
              "              title=\"Convert this dataframe to an interactive table.\"\n",
              "              style=\"display:none;\">\n",
              "        \n",
              "  <svg xmlns=\"http://www.w3.org/2000/svg\" height=\"24px\"viewBox=\"0 0 24 24\"\n",
              "       width=\"24px\">\n",
              "    <path d=\"M0 0h24v24H0V0z\" fill=\"none\"/>\n",
              "    <path d=\"M18.56 5.44l.94 2.06.94-2.06 2.06-.94-2.06-.94-.94-2.06-.94 2.06-2.06.94zm-11 1L8.5 8.5l.94-2.06 2.06-.94-2.06-.94L8.5 2.5l-.94 2.06-2.06.94zm10 10l.94 2.06.94-2.06 2.06-.94-2.06-.94-.94-2.06-.94 2.06-2.06.94z\"/><path d=\"M17.41 7.96l-1.37-1.37c-.4-.4-.92-.59-1.43-.59-.52 0-1.04.2-1.43.59L10.3 9.45l-7.72 7.72c-.78.78-.78 2.05 0 2.83L4 21.41c.39.39.9.59 1.41.59.51 0 1.02-.2 1.41-.59l7.78-7.78 2.81-2.81c.8-.78.8-2.07 0-2.86zM5.41 20L4 18.59l7.72-7.72 1.47 1.35L5.41 20z\"/>\n",
              "  </svg>\n",
              "      </button>\n",
              "      \n",
              "  <style>\n",
              "    .colab-df-container {\n",
              "      display:flex;\n",
              "      flex-wrap:wrap;\n",
              "      gap: 12px;\n",
              "    }\n",
              "\n",
              "    .colab-df-convert {\n",
              "      background-color: #E8F0FE;\n",
              "      border: none;\n",
              "      border-radius: 50%;\n",
              "      cursor: pointer;\n",
              "      display: none;\n",
              "      fill: #1967D2;\n",
              "      height: 32px;\n",
              "      padding: 0 0 0 0;\n",
              "      width: 32px;\n",
              "    }\n",
              "\n",
              "    .colab-df-convert:hover {\n",
              "      background-color: #E2EBFA;\n",
              "      box-shadow: 0px 1px 2px rgba(60, 64, 67, 0.3), 0px 1px 3px 1px rgba(60, 64, 67, 0.15);\n",
              "      fill: #174EA6;\n",
              "    }\n",
              "\n",
              "    [theme=dark] .colab-df-convert {\n",
              "      background-color: #3B4455;\n",
              "      fill: #D2E3FC;\n",
              "    }\n",
              "\n",
              "    [theme=dark] .colab-df-convert:hover {\n",
              "      background-color: #434B5C;\n",
              "      box-shadow: 0px 1px 3px 1px rgba(0, 0, 0, 0.15);\n",
              "      filter: drop-shadow(0px 1px 2px rgba(0, 0, 0, 0.3));\n",
              "      fill: #FFFFFF;\n",
              "    }\n",
              "  </style>\n",
              "\n",
              "      <script>\n",
              "        const buttonEl =\n",
              "          document.querySelector('#df-2a0349a7-7ce1-474e-8c4e-2c9f295039bd button.colab-df-convert');\n",
              "        buttonEl.style.display =\n",
              "          google.colab.kernel.accessAllowed ? 'block' : 'none';\n",
              "\n",
              "        async function convertToInteractive(key) {\n",
              "          const element = document.querySelector('#df-2a0349a7-7ce1-474e-8c4e-2c9f295039bd');\n",
              "          const dataTable =\n",
              "            await google.colab.kernel.invokeFunction('convertToInteractive',\n",
              "                                                     [key], {});\n",
              "          if (!dataTable) return;\n",
              "\n",
              "          const docLinkHtml = 'Like what you see? Visit the ' +\n",
              "            '<a target=\"_blank\" href=https://colab.research.google.com/notebooks/data_table.ipynb>data table notebook</a>'\n",
              "            + ' to learn more about interactive tables.';\n",
              "          element.innerHTML = '';\n",
              "          dataTable['output_type'] = 'display_data';\n",
              "          await google.colab.output.renderOutput(dataTable, element);\n",
              "          const docLink = document.createElement('div');\n",
              "          docLink.innerHTML = docLinkHtml;\n",
              "          element.appendChild(docLink);\n",
              "        }\n",
              "      </script>\n",
              "    </div>\n",
              "  </div>\n",
              "  "
            ],
            "text/plain": [
              "       loss  accuracy  val_loss  val_accuracy\n",
              "0  1.650381  0.381333  1.380356        0.4516\n",
              "1  1.290020  0.474000  1.389743        0.3812\n",
              "2  1.205491  0.502000  1.276752        0.4964\n",
              "3  1.151677  0.526667  1.157235        0.4980\n",
              "4  1.103584  0.540933  1.265772        0.4748\n",
              "5  1.062517  0.556533  1.110122        0.5456\n",
              "6  1.020049  0.583867  1.078837        0.5428\n",
              "7  0.984369  0.598933  1.212582        0.4908\n",
              "8  0.940074  0.622667  1.033838        0.5620\n",
              "9  0.903140  0.639200  0.980207        0.5856"
            ]
          },
          "metadata": {},
          "execution_count": 18
        }
      ],
      "source": [
        "pd.DataFrame(loss.history)"
      ]
    },
    {
      "cell_type": "code",
      "execution_count": 19,
      "id": "27ad491a",
      "metadata": {
        "colab": {
          "base_uri": "https://localhost:8080/",
          "height": 282
        },
        "id": "27ad491a",
        "outputId": "ae875a0c-bf39-4ff5-e45a-eaa05510c267"
      },
      "outputs": [
        {
          "output_type": "execute_result",
          "data": {
            "text/plain": [
              "<matplotlib.axes._subplots.AxesSubplot at 0x7f0bcfd6c9d0>"
            ]
          },
          "metadata": {},
          "execution_count": 19
        },
        {
          "output_type": "display_data",
          "data": {
            "image/png": "[encoded data removed]",
            "text/plain": [
              "<Figure size 432x288 with 1 Axes>"
            ]
          },
          "metadata": {
            "needs_background": "light"
          }
        }
      ],
      "source": [
        "pd.DataFrame(loss.history)[['loss', 'val_loss']].plot()"
      ]
    },
    {
      "cell_type": "code",
      "execution_count": 20,
      "id": "f7984650",
      "metadata": {
        "colab": {
          "base_uri": "https://localhost:8080/"
        },
        "id": "f7984650",
        "outputId": "6079960c-d1f6-45fd-9e93-59f9879f3fea"
      },
      "outputs": [
        {
          "output_type": "stream",
          "name": "stdout",
          "text": [
            "Model: \"sequential_2\"\n",
            "_________________________________________________________________\n",
            " Layer (type)                Output Shape              Param #   \n",
            "=================================================================\n",
            " flatten_2 (Flatten)         (None, 2500)              0         \n",
            "                                                                 \n",
            " dense_5 (Dense)             (None, 128)               320128    \n",
            "                                                                 \n",
            " dense_6 (Dense)             (None, 64)                8256      \n",
            "                                                                 \n",
            " dense_7 (Dense)             (None, 16)                1040      \n",
            "                                                                 \n",
            "=================================================================\n",
            "Total params: 329,424\n",
            "Trainable params: 329,424\n",
            "Non-trainable params: 0\n",
            "_________________________________________________________________\n"
          ]
        }
      ],
      "source": [
        "model = keras.models.Sequential()\n",
        "model.add(keras.layers.Flatten(input_shape = (50, 50)))\n",
        "model.add(keras.layers.Dense(128, activation = 'relu'))\n",
        "model.add(keras.layers.Dense(64, activation = 'relu'))\n",
        "model.add(keras.layers.Dense(16, activation = 'softmax'))\n",
        "model.compile(loss = 'sparse_categorical_crossentropy', optimizer =  keras.optimizers.Adam(learning_rate = 3e-4), \n",
        "              metrics = ['accuracy'])\n",
        "model.summary()"
      ]
    },
    {
      "cell_type": "code",
      "execution_count": 21,
      "id": "f0a545a0",
      "metadata": {
        "colab": {
          "base_uri": "https://localhost:8080/"
        },
        "id": "f0a545a0",
        "outputId": "8b222025-b1d1-4808-9688-39ae958d892d"
      },
      "outputs": [
        {
          "output_type": "stream",
          "name": "stdout",
          "text": [
            "Epoch 1/10\n",
            "235/235 [==============================] - 2s 6ms/step - loss: 1.4363 - accuracy: 0.4239 - val_loss: 1.2828 - val_accuracy: 0.4936\n",
            "Epoch 2/10\n",
            "235/235 [==============================] - 1s 5ms/step - loss: 1.1517 - accuracy: 0.5232 - val_loss: 1.1265 - val_accuracy: 0.5252\n",
            "Epoch 3/10\n",
            "235/235 [==============================] - 1s 5ms/step - loss: 1.0256 - accuracy: 0.5804 - val_loss: 1.0527 - val_accuracy: 0.5860\n",
            "Epoch 4/10\n",
            "235/235 [==============================] - 1s 5ms/step - loss: 0.9099 - accuracy: 0.6320 - val_loss: 0.9614 - val_accuracy: 0.6132\n",
            "Epoch 5/10\n",
            "235/235 [==============================] - 1s 5ms/step - loss: 0.8190 - accuracy: 0.6771 - val_loss: 0.8861 - val_accuracy: 0.6100\n",
            "Epoch 6/10\n",
            "235/235 [==============================] - 1s 5ms/step - loss: 0.7416 - accuracy: 0.7080 - val_loss: 0.8165 - val_accuracy: 0.6496\n",
            "Epoch 7/10\n",
            "235/235 [==============================] - 1s 5ms/step - loss: 0.6740 - accuracy: 0.7399 - val_loss: 0.8188 - val_accuracy: 0.6616\n",
            "Epoch 8/10\n",
            "235/235 [==============================] - 1s 4ms/step - loss: 0.6334 - accuracy: 0.7504 - val_loss: 0.7541 - val_accuracy: 0.7060\n",
            "Epoch 9/10\n",
            "235/235 [==============================] - 1s 5ms/step - loss: 0.5811 - accuracy: 0.7789 - val_loss: 0.7515 - val_accuracy: 0.7036\n",
            "Epoch 10/10\n",
            "235/235 [==============================] - 1s 5ms/step - loss: 0.5503 - accuracy: 0.7955 - val_loss: 0.7057 - val_accuracy: 0.7096\n"
          ]
        }
      ],
      "source": [
        "loss = model.fit(X_train, y_train, validation_data = (X_test, y_test), epochs = 10)"
      ]
    },
    {
      "cell_type": "code",
      "execution_count": 22,
      "id": "1c6ab135",
      "metadata": {
        "colab": {
          "base_uri": "https://localhost:8080/",
          "height": 363
        },
        "id": "1c6ab135",
        "outputId": "c62bf448-aa57-4478-c83c-c352fd25bd2e"
      },
      "outputs": [
        {
          "output_type": "execute_result",
          "data": {
            "text/html": [
              "\n",
              "  <div id=\"df-44b1dec7-1d52-4c63-a9fb-ebd33801c290\">\n",
              "    <div class=\"colab-df-container\">\n",
              "      <div>\n",
              "<style scoped>\n",
              "    .dataframe tbody tr th:only-of-type {\n",
              "        vertical-align: middle;\n",
              "    }\n",
              "\n",
              "    .dataframe tbody tr th {\n",
              "        vertical-align: top;\n",
              "    }\n",
              "\n",
              "    .dataframe thead th {\n",
              "        text-align: right;\n",
              "    }\n",
              "</style>\n",
              "<table border=\"1\" class=\"dataframe\">\n",
              "  <thead>\n",
              "    <tr style=\"text-align: right;\">\n",
              "      <th></th>\n",
              "      <th>loss</th>\n",
              "      <th>accuracy</th>\n",
              "      <th>val_loss</th>\n",
              "      <th>val_accuracy</th>\n",
              "    </tr>\n",
              "  </thead>\n",
              "  <tbody>\n",
              "    <tr>\n",
              "      <th>0</th>\n",
              "      <td>1.436339</td>\n",
              "      <td>0.423867</td>\n",
              "      <td>1.282811</td>\n",
              "      <td>0.4936</td>\n",
              "    </tr>\n",
              "    <tr>\n",
              "      <th>1</th>\n",
              "      <td>1.151722</td>\n",
              "      <td>0.523200</td>\n",
              "      <td>1.126479</td>\n",
              "      <td>0.5252</td>\n",
              "    </tr>\n",
              "    <tr>\n",
              "      <th>2</th>\n",
              "      <td>1.025610</td>\n",
              "      <td>0.580400</td>\n",
              "      <td>1.052737</td>\n",
              "      <td>0.5860</td>\n",
              "    </tr>\n",
              "    <tr>\n",
              "      <th>3</th>\n",
              "      <td>0.909854</td>\n",
              "      <td>0.632000</td>\n",
              "      <td>0.961356</td>\n",
              "      <td>0.6132</td>\n",
              "    </tr>\n",
              "    <tr>\n",
              "      <th>4</th>\n",
              "      <td>0.818997</td>\n",
              "      <td>0.677067</td>\n",
              "      <td>0.886148</td>\n",
              "      <td>0.6100</td>\n",
              "    </tr>\n",
              "    <tr>\n",
              "      <th>5</th>\n",
              "      <td>0.741575</td>\n",
              "      <td>0.708000</td>\n",
              "      <td>0.816470</td>\n",
              "      <td>0.6496</td>\n",
              "    </tr>\n",
              "    <tr>\n",
              "      <th>6</th>\n",
              "      <td>0.673980</td>\n",
              "      <td>0.739867</td>\n",
              "      <td>0.818762</td>\n",
              "      <td>0.6616</td>\n",
              "    </tr>\n",
              "    <tr>\n",
              "      <th>7</th>\n",
              "      <td>0.633440</td>\n",
              "      <td>0.750400</td>\n",
              "      <td>0.754087</td>\n",
              "      <td>0.7060</td>\n",
              "    </tr>\n",
              "    <tr>\n",
              "      <th>8</th>\n",
              "      <td>0.581102</td>\n",
              "      <td>0.778933</td>\n",
              "      <td>0.751491</td>\n",
              "      <td>0.7036</td>\n",
              "    </tr>\n",
              "    <tr>\n",
              "      <th>9</th>\n",
              "      <td>0.550256</td>\n",
              "      <td>0.795467</td>\n",
              "      <td>0.705722</td>\n",
              "      <td>0.7096</td>\n",
              "    </tr>\n",
              "  </tbody>\n",
              "</table>\n",
              "</div>\n",
              "      <button class=\"colab-df-convert\" onclick=\"convertToInteractive('df-44b1dec7-1d52-4c63-a9fb-ebd33801c290')\"\n",
              "              title=\"Convert this dataframe to an interactive table.\"\n",
              "              style=\"display:none;\">\n",
              "        \n",
              "  <svg xmlns=\"http://www.w3.org/2000/svg\" height=\"24px\"viewBox=\"0 0 24 24\"\n",
              "       width=\"24px\">\n",
              "    <path d=\"M0 0h24v24H0V0z\" fill=\"none\"/>\n",
              "    <path d=\"M18.56 5.44l.94 2.06.94-2.06 2.06-.94-2.06-.94-.94-2.06-.94 2.06-2.06.94zm-11 1L8.5 8.5l.94-2.06 2.06-.94-2.06-.94L8.5 2.5l-.94 2.06-2.06.94zm10 10l.94 2.06.94-2.06 2.06-.94-2.06-.94-.94-2.06-.94 2.06-2.06.94z\"/><path d=\"M17.41 7.96l-1.37-1.37c-.4-.4-.92-.59-1.43-.59-.52 0-1.04.2-1.43.59L10.3 9.45l-7.72 7.72c-.78.78-.78 2.05 0 2.83L4 21.41c.39.39.9.59 1.41.59.51 0 1.02-.2 1.41-.59l7.78-7.78 2.81-2.81c.8-.78.8-2.07 0-2.86zM5.41 20L4 18.59l7.72-7.72 1.47 1.35L5.41 20z\"/>\n",
              "  </svg>\n",
              "      </button>\n",
              "      \n",
              "  <style>\n",
              "    .colab-df-container {\n",
              "      display:flex;\n",
              "      flex-wrap:wrap;\n",
              "      gap: 12px;\n",
              "    }\n",
              "\n",
              "    .colab-df-convert {\n",
              "      background-color: #E8F0FE;\n",
              "      border: none;\n",
              "      border-radius: 50%;\n",
              "      cursor: pointer;\n",
              "      display: none;\n",
              "      fill: #1967D2;\n",
              "      height: 32px;\n",
              "      padding: 0 0 0 0;\n",
              "      width: 32px;\n",
              "    }\n",
              "\n",
              "    .colab-df-convert:hover {\n",
              "      background-color: #E2EBFA;\n",
              "      box-shadow: 0px 1px 2px rgba(60, 64, 67, 0.3), 0px 1px 3px 1px rgba(60, 64, 67, 0.15);\n",
              "      fill: #174EA6;\n",
              "    }\n",
              "\n",
              "    [theme=dark] .colab-df-convert {\n",
              "      background-color: #3B4455;\n",
              "      fill: #D2E3FC;\n",
              "    }\n",
              "\n",
              "    [theme=dark] .colab-df-convert:hover {\n",
              "      background-color: #434B5C;\n",
              "      box-shadow: 0px 1px 3px 1px rgba(0, 0, 0, 0.15);\n",
              "      filter: drop-shadow(0px 1px 2px rgba(0, 0, 0, 0.3));\n",
              "      fill: #FFFFFF;\n",
              "    }\n",
              "  </style>\n",
              "\n",
              "      <script>\n",
              "        const buttonEl =\n",
              "          document.querySelector('#df-44b1dec7-1d52-4c63-a9fb-ebd33801c290 button.colab-df-convert');\n",
              "        buttonEl.style.display =\n",
              "          google.colab.kernel.accessAllowed ? 'block' : 'none';\n",
              "\n",
              "        async function convertToInteractive(key) {\n",
              "          const element = document.querySelector('#df-44b1dec7-1d52-4c63-a9fb-ebd33801c290');\n",
              "          const dataTable =\n",
              "            await google.colab.kernel.invokeFunction('convertToInteractive',\n",
              "                                                     [key], {});\n",
              "          if (!dataTable) return;\n",
              "\n",
              "          const docLinkHtml = 'Like what you see? Visit the ' +\n",
              "            '<a target=\"_blank\" href=https://colab.research.google.com/notebooks/data_table.ipynb>data table notebook</a>'\n",
              "            + ' to learn more about interactive tables.';\n",
              "          element.innerHTML = '';\n",
              "          dataTable['output_type'] = 'display_data';\n",
              "          await google.colab.output.renderOutput(dataTable, element);\n",
              "          const docLink = document.createElement('div');\n",
              "          docLink.innerHTML = docLinkHtml;\n",
              "          element.appendChild(docLink);\n",
              "        }\n",
              "      </script>\n",
              "    </div>\n",
              "  </div>\n",
              "  "
            ],
            "text/plain": [
              "       loss  accuracy  val_loss  val_accuracy\n",
              "0  1.436339  0.423867  1.282811        0.4936\n",
              "1  1.151722  0.523200  1.126479        0.5252\n",
              "2  1.025610  0.580400  1.052737        0.5860\n",
              "3  0.909854  0.632000  0.961356        0.6132\n",
              "4  0.818997  0.677067  0.886148        0.6100\n",
              "5  0.741575  0.708000  0.816470        0.6496\n",
              "6  0.673980  0.739867  0.818762        0.6616\n",
              "7  0.633440  0.750400  0.754087        0.7060\n",
              "8  0.581102  0.778933  0.751491        0.7036\n",
              "9  0.550256  0.795467  0.705722        0.7096"
            ]
          },
          "metadata": {},
          "execution_count": 22
        }
      ],
      "source": [
        "pd.DataFrame(loss.history)"
      ]
    },
    {
      "cell_type": "code",
      "execution_count": 23,
      "id": "3f77f090",
      "metadata": {
        "colab": {
          "base_uri": "https://localhost:8080/",
          "height": 282
        },
        "id": "3f77f090",
        "outputId": "aa8ae257-6224-4827-91ab-b22c77bc291d"
      },
      "outputs": [
        {
          "output_type": "execute_result",
          "data": {
            "text/plain": [
              "<matplotlib.axes._subplots.AxesSubplot at 0x7f0bcff96310>"
            ]
          },
          "metadata": {},
          "execution_count": 23
        },
        {
          "output_type": "display_data",
          "data": {
            "image/png": "[encoded data removed]",
            "text/plain": [
              "<Figure size 432x288 with 1 Axes>"
            ]
          },
          "metadata": {
            "needs_background": "light"
          }
        }
      ],
      "source": [
        "pd.DataFrame(loss.history)[['loss', 'val_loss']].plot()"
      ]
    },
    {
      "cell_type": "code",
      "execution_count": 24,
      "id": "4eed121a",
      "metadata": {
        "gradient": {
          "editing": false,
          "id": "e8dbd74a",
          "kernelId": ""
        },
        "colab": {
          "base_uri": "https://localhost:8080/"
        },
        "id": "4eed121a",
        "outputId": "b1dd8f8e-3034-441d-eeac-c523ff030391"
      },
      "outputs": [
        {
          "output_type": "stream",
          "name": "stdout",
          "text": [
            "Model: \"sequential_3\"\n",
            "_________________________________________________________________\n",
            " Layer (type)                Output Shape              Param #   \n",
            "=================================================================\n",
            " flatten_3 (Flatten)         (None, 2500)              0         \n",
            "                                                                 \n",
            " dense_8 (Dense)             (None, 128)               320128    \n",
            "                                                                 \n",
            " dropout (Dropout)           (None, 128)               0         \n",
            "                                                                 \n",
            " dense_9 (Dense)             (None, 64)                8256      \n",
            "                                                                 \n",
            " dropout_1 (Dropout)         (None, 64)                0         \n",
            "                                                                 \n",
            " dense_10 (Dense)            (None, 16)                1040      \n",
            "                                                                 \n",
            "=================================================================\n",
            "Total params: 329,424\n",
            "Trainable params: 329,424\n",
            "Non-trainable params: 0\n",
            "_________________________________________________________________\n"
          ]
        }
      ],
      "source": [
        "model = keras.models.Sequential()\n",
        "model.add(keras.layers.Flatten(input_shape = (50, 50)))\n",
        "model.add(keras.layers.Dense(128, activation = 'relu'))\n",
        "model.add(keras.layers.Dropout(0.1))\n",
        "model.add(keras.layers.Dense(64, activation = 'relu'))\n",
        "model.add(keras.layers.Dropout(0.1))\n",
        "model.add(keras.layers.Dense(16, activation = 'softmax'))\n",
        "model.compile(loss = 'sparse_categorical_crossentropy', optimizer =  keras.optimizers.Adam(learning_rate = 3e-4), \n",
        "              metrics = ['accuracy'])\n",
        "model.summary()"
      ]
    },
    {
      "cell_type": "code",
      "execution_count": 25,
      "id": "b40610a3",
      "metadata": {
        "gradient": {
          "editing": false,
          "id": "3c3445db",
          "kernelId": ""
        },
        "colab": {
          "base_uri": "https://localhost:8080/"
        },
        "id": "b40610a3",
        "outputId": "915f9144-e866-4d3d-f817-30e8b52e08d5"
      },
      "outputs": [
        {
          "output_type": "stream",
          "name": "stdout",
          "text": [
            "Epoch 1/10\n",
            "235/235 [==============================] - 2s 5ms/step - loss: 1.5913 - accuracy: 0.3767 - val_loss: 1.2559 - val_accuracy: 0.5020\n",
            "Epoch 2/10\n",
            "235/235 [==============================] - 1s 5ms/step - loss: 1.2420 - accuracy: 0.4912 - val_loss: 1.1623 - val_accuracy: 0.5244\n",
            "Epoch 3/10\n",
            "235/235 [==============================] - 1s 5ms/step - loss: 1.1180 - accuracy: 0.5444 - val_loss: 1.0708 - val_accuracy: 0.5544\n",
            "Epoch 4/10\n",
            "235/235 [==============================] - 1s 5ms/step - loss: 0.9950 - accuracy: 0.5956 - val_loss: 0.9874 - val_accuracy: 0.6064\n",
            "Epoch 5/10\n",
            "235/235 [==============================] - 1s 5ms/step - loss: 0.9054 - accuracy: 0.6328 - val_loss: 0.9020 - val_accuracy: 0.6252\n",
            "Epoch 6/10\n",
            "235/235 [==============================] - 1s 5ms/step - loss: 0.8256 - accuracy: 0.6695 - val_loss: 0.8165 - val_accuracy: 0.6772\n",
            "Epoch 7/10\n",
            "235/235 [==============================] - 1s 5ms/step - loss: 0.7649 - accuracy: 0.6956 - val_loss: 0.7749 - val_accuracy: 0.6948\n",
            "Epoch 8/10\n",
            "235/235 [==============================] - 1s 4ms/step - loss: 0.7175 - accuracy: 0.7111 - val_loss: 0.7722 - val_accuracy: 0.6880\n",
            "Epoch 9/10\n",
            "235/235 [==============================] - 1s 5ms/step - loss: 0.6798 - accuracy: 0.7256 - val_loss: 0.7084 - val_accuracy: 0.7152\n",
            "Epoch 10/10\n",
            "235/235 [==============================] - 1s 5ms/step - loss: 0.6345 - accuracy: 0.7531 - val_loss: 0.7074 - val_accuracy: 0.7148\n"
          ]
        }
      ],
      "source": [
        "loss = model.fit(X_train, y_train, validation_data = (X_test, y_test), epochs = 10)"
      ]
    },
    {
      "cell_type": "code",
      "execution_count": 26,
      "id": "f4b7c0d3",
      "metadata": {
        "gradient": {
          "editing": false,
          "id": "a40583c8",
          "kernelId": ""
        },
        "colab": {
          "base_uri": "https://localhost:8080/",
          "height": 363
        },
        "id": "f4b7c0d3",
        "outputId": "9d196d29-1c37-436a-d345-42fb5112d38d"
      },
      "outputs": [
        {
          "output_type": "execute_result",
          "data": {
            "text/html": [
              "\n",
              "  <div id=\"df-25d01f75-b97b-4dd6-8536-a549ed27d358\">\n",
              "    <div class=\"colab-df-container\">\n",
              "      <div>\n",
              "<style scoped>\n",
              "    .dataframe tbody tr th:only-of-type {\n",
              "        vertical-align: middle;\n",
              "    }\n",
              "\n",
              "    .dataframe tbody tr th {\n",
              "        vertical-align: top;\n",
              "    }\n",
              "\n",
              "    .dataframe thead th {\n",
              "        text-align: right;\n",
              "    }\n",
              "</style>\n",
              "<table border=\"1\" class=\"dataframe\">\n",
              "  <thead>\n",
              "    <tr style=\"text-align: right;\">\n",
              "      <th></th>\n",
              "      <th>loss</th>\n",
              "      <th>accuracy</th>\n",
              "      <th>val_loss</th>\n",
              "      <th>val_accuracy</th>\n",
              "    </tr>\n",
              "  </thead>\n",
              "  <tbody>\n",
              "    <tr>\n",
              "      <th>0</th>\n",
              "      <td>1.591260</td>\n",
              "      <td>0.376667</td>\n",
              "      <td>1.255890</td>\n",
              "      <td>0.5020</td>\n",
              "    </tr>\n",
              "    <tr>\n",
              "      <th>1</th>\n",
              "      <td>1.242046</td>\n",
              "      <td>0.491200</td>\n",
              "      <td>1.162286</td>\n",
              "      <td>0.5244</td>\n",
              "    </tr>\n",
              "    <tr>\n",
              "      <th>2</th>\n",
              "      <td>1.118009</td>\n",
              "      <td>0.544400</td>\n",
              "      <td>1.070824</td>\n",
              "      <td>0.5544</td>\n",
              "    </tr>\n",
              "    <tr>\n",
              "      <th>3</th>\n",
              "      <td>0.994973</td>\n",
              "      <td>0.595600</td>\n",
              "      <td>0.987439</td>\n",
              "      <td>0.6064</td>\n",
              "    </tr>\n",
              "    <tr>\n",
              "      <th>4</th>\n",
              "      <td>0.905419</td>\n",
              "      <td>0.632800</td>\n",
              "      <td>0.902001</td>\n",
              "      <td>0.6252</td>\n",
              "    </tr>\n",
              "    <tr>\n",
              "      <th>5</th>\n",
              "      <td>0.825608</td>\n",
              "      <td>0.669467</td>\n",
              "      <td>0.816490</td>\n",
              "      <td>0.6772</td>\n",
              "    </tr>\n",
              "    <tr>\n",
              "      <th>6</th>\n",
              "      <td>0.764948</td>\n",
              "      <td>0.695600</td>\n",
              "      <td>0.774856</td>\n",
              "      <td>0.6948</td>\n",
              "    </tr>\n",
              "    <tr>\n",
              "      <th>7</th>\n",
              "      <td>0.717496</td>\n",
              "      <td>0.711067</td>\n",
              "      <td>0.772211</td>\n",
              "      <td>0.6880</td>\n",
              "    </tr>\n",
              "    <tr>\n",
              "      <th>8</th>\n",
              "      <td>0.679828</td>\n",
              "      <td>0.725600</td>\n",
              "      <td>0.708395</td>\n",
              "      <td>0.7152</td>\n",
              "    </tr>\n",
              "    <tr>\n",
              "      <th>9</th>\n",
              "      <td>0.634455</td>\n",
              "      <td>0.753067</td>\n",
              "      <td>0.707365</td>\n",
              "      <td>0.7148</td>\n",
              "    </tr>\n",
              "  </tbody>\n",
              "</table>\n",
              "</div>\n",
              "      <button class=\"colab-df-convert\" onclick=\"convertToInteractive('df-25d01f75-b97b-4dd6-8536-a549ed27d358')\"\n",
              "              title=\"Convert this dataframe to an interactive table.\"\n",
              "              style=\"display:none;\">\n",
              "        \n",
              "  <svg xmlns=\"http://www.w3.org/2000/svg\" height=\"24px\"viewBox=\"0 0 24 24\"\n",
              "       width=\"24px\">\n",
              "    <path d=\"M0 0h24v24H0V0z\" fill=\"none\"/>\n",
              "    <path d=\"M18.56 5.44l.94 2.06.94-2.06 2.06-.94-2.06-.94-.94-2.06-.94 2.06-2.06.94zm-11 1L8.5 8.5l.94-2.06 2.06-.94-2.06-.94L8.5 2.5l-.94 2.06-2.06.94zm10 10l.94 2.06.94-2.06 2.06-.94-2.06-.94-.94-2.06-.94 2.06-2.06.94z\"/><path d=\"M17.41 7.96l-1.37-1.37c-.4-.4-.92-.59-1.43-.59-.52 0-1.04.2-1.43.59L10.3 9.45l-7.72 7.72c-.78.78-.78 2.05 0 2.83L4 21.41c.39.39.9.59 1.41.59.51 0 1.02-.2 1.41-.59l7.78-7.78 2.81-2.81c.8-.78.8-2.07 0-2.86zM5.41 20L4 18.59l7.72-7.72 1.47 1.35L5.41 20z\"/>\n",
              "  </svg>\n",
              "      </button>\n",
              "      \n",
              "  <style>\n",
              "    .colab-df-container {\n",
              "      display:flex;\n",
              "      flex-wrap:wrap;\n",
              "      gap: 12px;\n",
              "    }\n",
              "\n",
              "    .colab-df-convert {\n",
              "      background-color: #E8F0FE;\n",
              "      border: none;\n",
              "      border-radius: 50%;\n",
              "      cursor: pointer;\n",
              "      display: none;\n",
              "      fill: #1967D2;\n",
              "      height: 32px;\n",
              "      padding: 0 0 0 0;\n",
              "      width: 32px;\n",
              "    }\n",
              "\n",
              "    .colab-df-convert:hover {\n",
              "      background-color: #E2EBFA;\n",
              "      box-shadow: 0px 1px 2px rgba(60, 64, 67, 0.3), 0px 1px 3px 1px rgba(60, 64, 67, 0.15);\n",
              "      fill: #174EA6;\n",
              "    }\n",
              "\n",
              "    [theme=dark] .colab-df-convert {\n",
              "      background-color: #3B4455;\n",
              "      fill: #D2E3FC;\n",
              "    }\n",
              "\n",
              "    [theme=dark] .colab-df-convert:hover {\n",
              "      background-color: #434B5C;\n",
              "      box-shadow: 0px 1px 3px 1px rgba(0, 0, 0, 0.15);\n",
              "      filter: drop-shadow(0px 1px 2px rgba(0, 0, 0, 0.3));\n",
              "      fill: #FFFFFF;\n",
              "    }\n",
              "  </style>\n",
              "\n",
              "      <script>\n",
              "        const buttonEl =\n",
              "          document.querySelector('#df-25d01f75-b97b-4dd6-8536-a549ed27d358 button.colab-df-convert');\n",
              "        buttonEl.style.display =\n",
              "          google.colab.kernel.accessAllowed ? 'block' : 'none';\n",
              "\n",
              "        async function convertToInteractive(key) {\n",
              "          const element = document.querySelector('#df-25d01f75-b97b-4dd6-8536-a549ed27d358');\n",
              "          const dataTable =\n",
              "            await google.colab.kernel.invokeFunction('convertToInteractive',\n",
              "                                                     [key], {});\n",
              "          if (!dataTable) return;\n",
              "\n",
              "          const docLinkHtml = 'Like what you see? Visit the ' +\n",
              "            '<a target=\"_blank\" href=https://colab.research.google.com/notebooks/data_table.ipynb>data table notebook</a>'\n",
              "            + ' to learn more about interactive tables.';\n",
              "          element.innerHTML = '';\n",
              "          dataTable['output_type'] = 'display_data';\n",
              "          await google.colab.output.renderOutput(dataTable, element);\n",
              "          const docLink = document.createElement('div');\n",
              "          docLink.innerHTML = docLinkHtml;\n",
              "          element.appendChild(docLink);\n",
              "        }\n",
              "      </script>\n",
              "    </div>\n",
              "  </div>\n",
              "  "
            ],
            "text/plain": [
              "       loss  accuracy  val_loss  val_accuracy\n",
              "0  1.591260  0.376667  1.255890        0.5020\n",
              "1  1.242046  0.491200  1.162286        0.5244\n",
              "2  1.118009  0.544400  1.070824        0.5544\n",
              "3  0.994973  0.595600  0.987439        0.6064\n",
              "4  0.905419  0.632800  0.902001        0.6252\n",
              "5  0.825608  0.669467  0.816490        0.6772\n",
              "6  0.764948  0.695600  0.774856        0.6948\n",
              "7  0.717496  0.711067  0.772211        0.6880\n",
              "8  0.679828  0.725600  0.708395        0.7152\n",
              "9  0.634455  0.753067  0.707365        0.7148"
            ]
          },
          "metadata": {},
          "execution_count": 26
        }
      ],
      "source": [
        "pd.DataFrame(loss.history)"
      ]
    },
    {
      "cell_type": "code",
      "execution_count": 27,
      "id": "22abca9e",
      "metadata": {
        "gradient": {
          "editing": false,
          "id": "a0884d98",
          "kernelId": ""
        },
        "colab": {
          "base_uri": "https://localhost:8080/",
          "height": 282
        },
        "id": "22abca9e",
        "outputId": "056208e7-24d6-4dfe-868c-2e4cc88a0237"
      },
      "outputs": [
        {
          "output_type": "execute_result",
          "data": {
            "text/plain": [
              "<matplotlib.axes._subplots.AxesSubplot at 0x7f0bc01be250>"
            ]
          },
          "metadata": {},
          "execution_count": 27
        },
        {
          "output_type": "display_data",
          "data": {
            "image/png": "[encoded data removed]",
            "text/plain": [
              "<Figure size 432x288 with 1 Axes>"
            ]
          },
          "metadata": {
            "needs_background": "light"
          }
        }
      ],
      "source": [
        "pd.DataFrame(loss.history)[['loss', 'val_loss']].plot()"
      ]
    },
    {
      "cell_type": "code",
      "execution_count": 38,
      "id": "20021108",
      "metadata": {
        "colab": {
          "base_uri": "https://localhost:8080/"
        },
        "id": "20021108",
        "outputId": "5db14cd4-739c-4e91-ab1a-bc907b10827b"
      },
      "outputs": [
        {
          "output_type": "stream",
          "name": "stdout",
          "text": [
            "Model: \"sequential_9\"\n",
            "_________________________________________________________________\n",
            " Layer (type)                Output Shape              Param #   \n",
            "=================================================================\n",
            " conv2d_10 (Conv2D)          (None, 48, 48, 32)        320       \n",
            "                                                                 \n",
            " batch_normalization_10 (Bat  (None, 48, 48, 32)       128       \n",
            " chNormalization)                                                \n",
            "                                                                 \n",
            " max_pooling2d_10 (MaxPoolin  (None, 24, 24, 32)       0         \n",
            " g2D)                                                            \n",
            "                                                                 \n",
            " conv2d_11 (Conv2D)          (None, 22, 22, 32)        9248      \n",
            "                                                                 \n",
            " max_pooling2d_11 (MaxPoolin  (None, 11, 11, 32)       0         \n",
            " g2D)                                                            \n",
            "                                                                 \n",
            " batch_normalization_11 (Bat  (None, 11, 11, 32)       128       \n",
            " chNormalization)                                                \n",
            "                                                                 \n",
            " flatten_9 (Flatten)         (None, 3872)              0         \n",
            "                                                                 \n",
            " dense_26 (Dense)            (None, 64)                247872    \n",
            "                                                                 \n",
            " dense_27 (Dense)            (None, 10)                650       \n",
            "                                                                 \n",
            "=================================================================\n",
            "Total params: 258,346\n",
            "Trainable params: 258,218\n",
            "Non-trainable params: 128\n",
            "_________________________________________________________________\n"
          ]
        }
      ],
      "source": [
        "model = keras.models.Sequential()\n",
        "model.add(keras.layers.Conv2D(32, kernel_size=(3, 3), activation='relu', input_shape=[50, 50, 1])) \n",
        "model.add(keras.layers.BatchNormalization(axis=-1)) \n",
        "model.add(keras.layers.MaxPooling2D(pool_size=(2, 2)))\n",
        "model.add(keras.layers.Conv2D(32, kernel_size=(3, 3), activation='relu'))  \n",
        "model.add(keras.layers.MaxPooling2D(pool_size=(2, 2)))\n",
        "model.add(keras.layers.BatchNormalization(axis=-1))\n",
        "model.add(keras.layers.Flatten())\n",
        "model.add(keras.layers.Dense(64, activation='relu'))\n",
        "model.add(keras.layers.Dense(10, activation='softmax'))\n",
        "model.compile(loss=\"sparse_categorical_crossentropy\",\n",
        "              optimizer=\"Adam\",\n",
        "              metrics=[\"accuracy\"])\n",
        "model.summary()"
      ]
    },
    {
      "cell_type": "code",
      "execution_count": 39,
      "id": "b711c742",
      "metadata": {
        "colab": {
          "base_uri": "https://localhost:8080/"
        },
        "id": "b711c742",
        "outputId": "e1063947-0969-4117-84d1-19107f3cafab"
      },
      "outputs": [
        {
          "output_type": "stream",
          "name": "stdout",
          "text": [
            "Epoch 1/20\n",
            "235/235 [==============================] - 4s 11ms/step - loss: 1.0199 - accuracy: 0.6052 - val_loss: 5.9997 - val_accuracy: 0.2428\n",
            "Epoch 2/20\n",
            "235/235 [==============================] - 2s 10ms/step - loss: 0.3475 - accuracy: 0.8929 - val_loss: 11.1096 - val_accuracy: 0.1520\n",
            "Epoch 3/20\n",
            "235/235 [==============================] - 2s 10ms/step - loss: 0.1865 - accuracy: 0.9537 - val_loss: 2.1143 - val_accuracy: 0.3840\n",
            "Epoch 4/20\n",
            "235/235 [==============================] - 2s 10ms/step - loss: 0.1100 - accuracy: 0.9723 - val_loss: 0.2193 - val_accuracy: 0.9540\n",
            "Epoch 5/20\n",
            "235/235 [==============================] - 3s 11ms/step - loss: 0.0759 - accuracy: 0.9801 - val_loss: 0.2086 - val_accuracy: 0.9608\n",
            "Epoch 6/20\n",
            "235/235 [==============================] - 2s 10ms/step - loss: 0.0495 - accuracy: 0.9873 - val_loss: 0.2472 - val_accuracy: 0.9520\n",
            "Epoch 7/20\n",
            "235/235 [==============================] - 2s 10ms/step - loss: 0.0376 - accuracy: 0.9901 - val_loss: 0.2125 - val_accuracy: 0.9664\n",
            "Epoch 8/20\n",
            "235/235 [==============================] - 3s 11ms/step - loss: 0.0329 - accuracy: 0.9907 - val_loss: 0.2418 - val_accuracy: 0.9552\n",
            "Epoch 9/20\n",
            "235/235 [==============================] - 2s 10ms/step - loss: 0.0309 - accuracy: 0.9917 - val_loss: 0.2386 - val_accuracy: 0.9488\n",
            "Epoch 10/20\n",
            "235/235 [==============================] - 3s 11ms/step - loss: 0.0337 - accuracy: 0.9899 - val_loss: 0.3577 - val_accuracy: 0.9256\n",
            "Epoch 11/20\n",
            "235/235 [==============================] - 3s 11ms/step - loss: 0.0298 - accuracy: 0.9921 - val_loss: 0.5441 - val_accuracy: 0.8700\n",
            "Epoch 12/20\n",
            "235/235 [==============================] - 3s 11ms/step - loss: 0.0243 - accuracy: 0.9929 - val_loss: 0.3445 - val_accuracy: 0.9252\n",
            "Epoch 13/20\n",
            "235/235 [==============================] - 3s 11ms/step - loss: 0.0251 - accuracy: 0.9940 - val_loss: 0.3086 - val_accuracy: 0.9520\n",
            "Epoch 14/20\n",
            "235/235 [==============================] - 3s 11ms/step - loss: 0.0233 - accuracy: 0.9939 - val_loss: 0.2806 - val_accuracy: 0.9596\n",
            "Epoch 15/20\n",
            "235/235 [==============================] - 3s 11ms/step - loss: 0.0309 - accuracy: 0.9915 - val_loss: 0.3442 - val_accuracy: 0.9256\n",
            "Epoch 16/20\n",
            "235/235 [==============================] - 2s 10ms/step - loss: 0.0205 - accuracy: 0.9937 - val_loss: 0.2700 - val_accuracy: 0.9568\n",
            "Epoch 17/20\n",
            "235/235 [==============================] - 2s 10ms/step - loss: 0.0082 - accuracy: 0.9981 - val_loss: 0.4634 - val_accuracy: 0.9364\n",
            "Epoch 18/20\n",
            "235/235 [==============================] - 3s 11ms/step - loss: 0.0103 - accuracy: 0.9973 - val_loss: 0.3401 - val_accuracy: 0.9456\n",
            "Epoch 19/20\n",
            "235/235 [==============================] - 2s 10ms/step - loss: 0.0142 - accuracy: 0.9964 - val_loss: 0.3919 - val_accuracy: 0.9524\n",
            "Epoch 20/20\n",
            "235/235 [==============================] - 2s 10ms/step - loss: 0.0084 - accuracy: 0.9976 - val_loss: 0.2723 - val_accuracy: 0.9648\n"
          ]
        }
      ],
      "source": [
        "loss = model.fit(X_train, y_train, validation_data=(X_test, y_test), epochs=20)"
      ]
    },
    {
      "cell_type": "code",
      "source": [
        "pd.DataFrame(loss.history)[['loss', 'val_loss']].plot()"
      ],
      "metadata": {
        "colab": {
          "base_uri": "https://localhost:8080/",
          "height": 282
        },
        "id": "5ULOipCTuGH9",
        "outputId": "53fdda2e-d70b-42f5-f63a-ea166bc74ec6"
      },
      "id": "5ULOipCTuGH9",
      "execution_count": 40,
      "outputs": [
        {
          "output_type": "execute_result",
          "data": {
            "text/plain": [
              "<matplotlib.axes._subplots.AxesSubplot at 0x7f0b53e9f190>"
            ]
          },
          "metadata": {},
          "execution_count": 40
        },
        {
          "output_type": "display_data",
          "data": {
            "image/png": "[encoded data removed]",
            "text/plain": [
              "<Figure size 432x288 with 1 Axes>"
            ]
          },
          "metadata": {
            "needs_background": "light"
          }
        }
      ]
    },
    {
      "cell_type": "code",
      "source": [
        "model = keras.models.Sequential()\n",
        "model.add(keras.layers.Conv2D(32, kernel_size=(3, 3), activation='relu', input_shape=[50, 50, 1])) \n",
        "model.add(keras.layers.BatchNormalization(axis=-1)) \n",
        "model.add(keras.layers.MaxPooling2D(pool_size=(2, 2)))\n",
        "model.add(keras.layers.Conv2D(32, kernel_size=(3, 3), activation='relu'))  \n",
        "model.add(keras.layers.MaxPooling2D(pool_size=(2, 2)))\n",
        "model.add(keras.layers.BatchNormalization(axis=-1))\n",
        "model.add(keras.layers.Flatten())\n",
        "model.add(keras.layers.Dense(64, activation='relu'))\n",
        "model.add(keras.layers.Dense(20, activation='relu'))\n",
        "model.add(keras.layers.Dense(10, activation='softmax'))\n",
        "model.compile(loss=\"sparse_categorical_crossentropy\",\n",
        "              optimizer=\"Adam\",\n",
        "              metrics=[\"accuracy\"])\n",
        "model.summary()"
      ],
      "metadata": {
        "colab": {
          "base_uri": "https://localhost:8080/"
        },
        "id": "d9P9d5FKuthW",
        "outputId": "eef81756-f0b2-4ed1-fe90-769b4957ebb9"
      },
      "id": "d9P9d5FKuthW",
      "execution_count": 43,
      "outputs": [
        {
          "output_type": "stream",
          "name": "stdout",
          "text": [
            "Model: \"sequential_11\"\n",
            "_________________________________________________________________\n",
            " Layer (type)                Output Shape              Param #   \n",
            "=================================================================\n",
            " conv2d_14 (Conv2D)          (None, 48, 48, 32)        320       \n",
            "                                                                 \n",
            " batch_normalization_14 (Bat  (None, 48, 48, 32)       128       \n",
            " chNormalization)                                                \n",
            "                                                                 \n",
            " max_pooling2d_14 (MaxPoolin  (None, 24, 24, 32)       0         \n",
            " g2D)                                                            \n",
            "                                                                 \n",
            " conv2d_15 (Conv2D)          (None, 22, 22, 32)        9248      \n",
            "                                                                 \n",
            " max_pooling2d_15 (MaxPoolin  (None, 11, 11, 32)       0         \n",
            " g2D)                                                            \n",
            "                                                                 \n",
            " batch_normalization_15 (Bat  (None, 11, 11, 32)       128       \n",
            " chNormalization)                                                \n",
            "                                                                 \n",
            " flatten_11 (Flatten)        (None, 3872)              0         \n",
            "                                                                 \n",
            " dense_31 (Dense)            (None, 64)                247872    \n",
            "                                                                 \n",
            " dense_32 (Dense)            (None, 20)                1300      \n",
            "                                                                 \n",
            " dense_33 (Dense)            (None, 10)                210       \n",
            "                                                                 \n",
            "=================================================================\n",
            "Total params: 259,206\n",
            "Trainable params: 259,078\n",
            "Non-trainable params: 128\n",
            "_________________________________________________________________\n"
          ]
        }
      ]
    },
    {
      "cell_type": "code",
      "source": [
        "loss = model.fit(X_train, y_train, validation_data=(X_test, y_test), epochs=20)"
      ],
      "metadata": {
        "colab": {
          "base_uri": "https://localhost:8080/"
        },
        "id": "Jg7LXeTDuwNP",
        "outputId": "8b7bae62-460b-4fbc-aedc-b89d21af4156"
      },
      "id": "Jg7LXeTDuwNP",
      "execution_count": 44,
      "outputs": [
        {
          "output_type": "stream",
          "name": "stdout",
          "text": [
            "Epoch 1/20\n",
            "235/235 [==============================] - 3s 11ms/step - loss: 1.0634 - accuracy: 0.5911 - val_loss: 3.9753 - val_accuracy: 0.2344\n",
            "Epoch 2/20\n",
            "235/235 [==============================] - 3s 12ms/step - loss: 0.4002 - accuracy: 0.8699 - val_loss: 6.8057 - val_accuracy: 0.2500\n",
            "Epoch 3/20\n",
            "235/235 [==============================] - 2s 10ms/step - loss: 0.1847 - accuracy: 0.9548 - val_loss: 1.6246 - val_accuracy: 0.4824\n",
            "Epoch 4/20\n",
            "235/235 [==============================] - 2s 10ms/step - loss: 0.1083 - accuracy: 0.9743 - val_loss: 0.2526 - val_accuracy: 0.9324\n",
            "Epoch 5/20\n",
            "235/235 [==============================] - 3s 11ms/step - loss: 0.0737 - accuracy: 0.9808 - val_loss: 0.2344 - val_accuracy: 0.9524\n",
            "Epoch 6/20\n",
            "235/235 [==============================] - 3s 11ms/step - loss: 0.0566 - accuracy: 0.9839 - val_loss: 0.2643 - val_accuracy: 0.9392\n",
            "Epoch 7/20\n",
            "235/235 [==============================] - 2s 10ms/step - loss: 0.0465 - accuracy: 0.9855 - val_loss: 0.4075 - val_accuracy: 0.8976\n",
            "Epoch 8/20\n",
            "235/235 [==============================] - 3s 11ms/step - loss: 0.0427 - accuracy: 0.9860 - val_loss: 0.2872 - val_accuracy: 0.9452\n",
            "Epoch 9/20\n",
            "235/235 [==============================] - 2s 10ms/step - loss: 0.0364 - accuracy: 0.9904 - val_loss: 0.2673 - val_accuracy: 0.9524\n",
            "Epoch 10/20\n",
            "235/235 [==============================] - 2s 10ms/step - loss: 0.0144 - accuracy: 0.9960 - val_loss: 0.2809 - val_accuracy: 0.9584\n",
            "Epoch 11/20\n",
            "235/235 [==============================] - 2s 10ms/step - loss: 0.0152 - accuracy: 0.9963 - val_loss: 0.2303 - val_accuracy: 0.9696\n",
            "Epoch 12/20\n",
            "235/235 [==============================] - 2s 10ms/step - loss: 0.0084 - accuracy: 0.9976 - val_loss: 0.2623 - val_accuracy: 0.9700\n",
            "Epoch 13/20\n",
            "235/235 [==============================] - 2s 10ms/step - loss: 0.0068 - accuracy: 0.9981 - val_loss: 0.2524 - val_accuracy: 0.9672\n",
            "Epoch 14/20\n",
            "235/235 [==============================] - 2s 10ms/step - loss: 0.0290 - accuracy: 0.9904 - val_loss: 0.4657 - val_accuracy: 0.9060\n",
            "Epoch 15/20\n",
            "235/235 [==============================] - 2s 10ms/step - loss: 0.0665 - accuracy: 0.9800 - val_loss: 0.2759 - val_accuracy: 0.9572\n",
            "Epoch 16/20\n",
            "235/235 [==============================] - 3s 11ms/step - loss: 0.0374 - accuracy: 0.9889 - val_loss: 0.2852 - val_accuracy: 0.9644\n",
            "Epoch 17/20\n",
            "235/235 [==============================] - 3s 11ms/step - loss: 0.0164 - accuracy: 0.9955 - val_loss: 0.2800 - val_accuracy: 0.9700\n",
            "Epoch 18/20\n",
            "235/235 [==============================] - 2s 10ms/step - loss: 0.0045 - accuracy: 0.9985 - val_loss: 0.2683 - val_accuracy: 0.9780\n",
            "Epoch 19/20\n",
            "235/235 [==============================] - 3s 11ms/step - loss: 0.0017 - accuracy: 0.9993 - val_loss: 0.2691 - val_accuracy: 0.9784\n",
            "Epoch 20/20\n",
            "235/235 [==============================] - 3s 11ms/step - loss: 7.6302e-04 - accuracy: 0.9997 - val_loss: 0.2804 - val_accuracy: 0.9792\n"
          ]
        }
      ]
    },
    {
      "cell_type": "code",
      "source": [
        "model = keras.models.Sequential()\n",
        "model.add(keras.layers.Conv2D(32, kernel_size=(3, 3), activation='relu', input_shape=[50, 50, 1])) \n",
        "model.add(keras.layers.BatchNormalization(axis=-1)) \n",
        "model.add(keras.layers.MaxPooling2D(pool_size=(2, 2)))\n",
        "model.add(keras.layers.Conv2D(32, kernel_size=(3, 3), activation='relu'))  \n",
        "model.add(keras.layers.MaxPooling2D(pool_size=(2, 2)))\n",
        "model.add(keras.layers.BatchNormalization(axis=-1))\n",
        "model.add(keras.layers.Flatten())\n",
        "model.add(keras.layers.Dense(64, activation='relu'))\n",
        "model.add(keras.layers.Dense(20, activation='relu'))\n",
        "model.add(keras.layers.Dense(10, activation='softmax'))\n",
        "model.compile(loss=\"sparse_categorical_crossentropy\",\n",
        "              optimizer=\"Adam\",\n",
        "              metrics=[\"accuracy\"])\n",
        "model.summary()"
      ],
      "metadata": {
        "colab": {
          "base_uri": "https://localhost:8080/"
        },
        "id": "6LOLCULcvZI-",
        "outputId": "45566c7d-0816-4960-9967-aa794dc905ff"
      },
      "id": "6LOLCULcvZI-",
      "execution_count": 47,
      "outputs": [
        {
          "output_type": "stream",
          "name": "stdout",
          "text": [
            "Model: \"sequential_13\"\n",
            "_________________________________________________________________\n",
            " Layer (type)                Output Shape              Param #   \n",
            "=================================================================\n",
            " conv2d_18 (Conv2D)          (None, 48, 48, 32)        320       \n",
            "                                                                 \n",
            " batch_normalization_18 (Bat  (None, 48, 48, 32)       128       \n",
            " chNormalization)                                                \n",
            "                                                                 \n",
            " max_pooling2d_18 (MaxPoolin  (None, 24, 24, 32)       0         \n",
            " g2D)                                                            \n",
            "                                                                 \n",
            " conv2d_19 (Conv2D)          (None, 22, 22, 32)        9248      \n",
            "                                                                 \n",
            " max_pooling2d_19 (MaxPoolin  (None, 11, 11, 32)       0         \n",
            " g2D)                                                            \n",
            "                                                                 \n",
            " batch_normalization_19 (Bat  (None, 11, 11, 32)       128       \n",
            " chNormalization)                                                \n",
            "                                                                 \n",
            " flatten_13 (Flatten)        (None, 3872)              0         \n",
            "                                                                 \n",
            " dense_37 (Dense)            (None, 64)                247872    \n",
            "                                                                 \n",
            " dense_38 (Dense)            (None, 20)                1300      \n",
            "                                                                 \n",
            " dense_39 (Dense)            (None, 10)                210       \n",
            "                                                                 \n",
            "=================================================================\n",
            "Total params: 259,206\n",
            "Trainable params: 259,078\n",
            "Non-trainable params: 128\n",
            "_________________________________________________________________\n"
          ]
        }
      ]
    },
    {
      "cell_type": "code",
      "source": [
        "model.fit(X_train, y_train, epochs=10, validation_split=0.2)"
      ],
      "metadata": {
        "colab": {
          "base_uri": "https://localhost:8080/"
        },
        "id": "R5QpOvPXvZzR",
        "outputId": "3a9f8f69-fe7b-4ba4-e6fe-5a9425de5131"
      },
      "id": "R5QpOvPXvZzR",
      "execution_count": 50,
      "outputs": [
        {
          "output_type": "stream",
          "name": "stdout",
          "text": [
            "Epoch 1/10\n",
            "188/188 [==============================] - 2s 10ms/step - loss: 0.0313 - accuracy: 0.9918 - val_loss: 0.4327 - val_accuracy: 0.9580\n",
            "Epoch 2/10\n",
            "188/188 [==============================] - 2s 11ms/step - loss: 0.0234 - accuracy: 0.9928 - val_loss: 0.4919 - val_accuracy: 0.9067\n",
            "Epoch 3/10\n",
            "188/188 [==============================] - 2s 10ms/step - loss: 0.0382 - accuracy: 0.9895 - val_loss: 0.6200 - val_accuracy: 0.8920\n",
            "Epoch 4/10\n",
            "188/188 [==============================] - 2s 10ms/step - loss: 0.0300 - accuracy: 0.9892 - val_loss: 0.5142 - val_accuracy: 0.9400\n",
            "Epoch 5/10\n",
            "188/188 [==============================] - 2s 10ms/step - loss: 0.0122 - accuracy: 0.9973 - val_loss: 0.4160 - val_accuracy: 0.9627\n",
            "Epoch 6/10\n",
            "188/188 [==============================] - 2s 10ms/step - loss: 0.0069 - accuracy: 0.9982 - val_loss: 0.4970 - val_accuracy: 0.9687\n",
            "Epoch 7/10\n",
            "188/188 [==============================] - 2s 10ms/step - loss: 0.0024 - accuracy: 0.9997 - val_loss: 0.4632 - val_accuracy: 0.9713\n",
            "Epoch 8/10\n",
            "188/188 [==============================] - 2s 10ms/step - loss: 0.0025 - accuracy: 0.9993 - val_loss: 0.4502 - val_accuracy: 0.9660\n",
            "Epoch 9/10\n",
            "188/188 [==============================] - 2s 10ms/step - loss: 0.0053 - accuracy: 0.9993 - val_loss: 0.5149 - val_accuracy: 0.9587\n",
            "Epoch 10/10\n",
            "188/188 [==============================] - 2s 10ms/step - loss: 0.0050 - accuracy: 0.9992 - val_loss: 0.4553 - val_accuracy: 0.9660\n"
          ]
        },
        {
          "output_type": "execute_result",
          "data": {
            "text/plain": [
              "<keras.callbacks.History at 0x7f0b516b9bd0>"
            ]
          },
          "metadata": {},
          "execution_count": 50
        }
      ]
    },
    {
      "cell_type": "code",
      "source": [
        "model = keras.models.Sequential()\n",
        "model.add(keras.layers.Conv2D(32, kernel_size=(3, 3), activation='relu', input_shape=[50, 50, 1])) \n",
        "model.add(keras.layers.BatchNormalization(axis=-1)) \n",
        "model.add(keras.layers.MaxPooling2D(pool_size=(2, 2)))\n",
        "model.add(keras.layers.Conv2D(32, kernel_size=(3, 3), activation='relu'))  \n",
        "model.add(keras.layers.MaxPooling2D(pool_size=(2, 2)))\n",
        "model.add(keras.layers.BatchNormalization(axis=-1))\n",
        "model.add(keras.layers.Flatten())\n",
        "model.add(keras.layers.Dense(64, activation='relu'))\n",
        "model.add(keras.layers.Dense(10, activation='relu'))\n",
        "model.add(keras.layers.Dense(5, activation='softmax'))\n",
        "model.compile(loss=\"sparse_categorical_crossentropy\",\n",
        "              optimizer=\"Adam\",\n",
        "              metrics=[\"accuracy\"])\n",
        "model.summary()"
      ],
      "metadata": {
        "colab": {
          "base_uri": "https://localhost:8080/"
        },
        "id": "3IBJzJRdv7fd",
        "outputId": "09edc493-3ee3-4ef4-ec5e-1825e10b9a41"
      },
      "id": "3IBJzJRdv7fd",
      "execution_count": 51,
      "outputs": [
        {
          "output_type": "stream",
          "name": "stdout",
          "text": [
            "Model: \"sequential_14\"\n",
            "_________________________________________________________________\n",
            " Layer (type)                Output Shape              Param #   \n",
            "=================================================================\n",
            " conv2d_20 (Conv2D)          (None, 48, 48, 32)        320       \n",
            "                                                                 \n",
            " batch_normalization_20 (Bat  (None, 48, 48, 32)       128       \n",
            " chNormalization)                                                \n",
            "                                                                 \n",
            " max_pooling2d_20 (MaxPoolin  (None, 24, 24, 32)       0         \n",
            " g2D)                                                            \n",
            "                                                                 \n",
            " conv2d_21 (Conv2D)          (None, 22, 22, 32)        9248      \n",
            "                                                                 \n",
            " max_pooling2d_21 (MaxPoolin  (None, 11, 11, 32)       0         \n",
            " g2D)                                                            \n",
            "                                                                 \n",
            " batch_normalization_21 (Bat  (None, 11, 11, 32)       128       \n",
            " chNormalization)                                                \n",
            "                                                                 \n",
            " flatten_14 (Flatten)        (None, 3872)              0         \n",
            "                                                                 \n",
            " dense_40 (Dense)            (None, 64)                247872    \n",
            "                                                                 \n",
            " dense_41 (Dense)            (None, 10)                650       \n",
            "                                                                 \n",
            " dense_42 (Dense)            (None, 5)                 55        \n",
            "                                                                 \n",
            "=================================================================\n",
            "Total params: 258,401\n",
            "Trainable params: 258,273\n",
            "Non-trainable params: 128\n",
            "_________________________________________________________________\n"
          ]
        }
      ]
    },
    {
      "cell_type": "code",
      "source": [
        "model.fit(X_train, y_train, epochs=10, validation_split=0.2)"
      ],
      "metadata": {
        "colab": {
          "base_uri": "https://localhost:8080/"
        },
        "id": "Y4nDAulAv-dc",
        "outputId": "13dc67eb-e0a0-4b06-927a-56f7df421305"
      },
      "id": "Y4nDAulAv-dc",
      "execution_count": 53,
      "outputs": [
        {
          "output_type": "stream",
          "name": "stdout",
          "text": [
            "Epoch 1/10\n",
            "188/188 [==============================] - 2s 10ms/step - loss: 0.0250 - accuracy: 0.9933 - val_loss: 0.3228 - val_accuracy: 0.9507\n",
            "Epoch 2/10\n",
            "188/188 [==============================] - 2s 10ms/step - loss: 0.0097 - accuracy: 0.9977 - val_loss: 0.3694 - val_accuracy: 0.9653\n",
            "Epoch 3/10\n",
            "188/188 [==============================] - 2s 10ms/step - loss: 0.0130 - accuracy: 0.9962 - val_loss: 0.3811 - val_accuracy: 0.9520\n",
            "Epoch 4/10\n",
            "188/188 [==============================] - 2s 10ms/step - loss: 0.0124 - accuracy: 0.9973 - val_loss: 0.3594 - val_accuracy: 0.9587\n",
            "Epoch 5/10\n",
            "188/188 [==============================] - 2s 10ms/step - loss: 0.0098 - accuracy: 0.9973 - val_loss: 0.4664 - val_accuracy: 0.9333\n",
            "Epoch 6/10\n",
            "188/188 [==============================] - 2s 10ms/step - loss: 0.0434 - accuracy: 0.9863 - val_loss: 1.5777 - val_accuracy: 0.7593\n",
            "Epoch 7/10\n",
            "188/188 [==============================] - 2s 9ms/step - loss: 0.0908 - accuracy: 0.9705 - val_loss: 6.0051 - val_accuracy: 0.5460\n",
            "Epoch 8/10\n",
            "188/188 [==============================] - 2s 10ms/step - loss: 0.0284 - accuracy: 0.9915 - val_loss: 0.5301 - val_accuracy: 0.9400\n",
            "Epoch 9/10\n",
            "188/188 [==============================] - 2s 9ms/step - loss: 0.0135 - accuracy: 0.9953 - val_loss: 0.4501 - val_accuracy: 0.9547\n",
            "Epoch 10/10\n",
            "188/188 [==============================] - 2s 10ms/step - loss: 0.0175 - accuracy: 0.9955 - val_loss: 0.4230 - val_accuracy: 0.9593\n"
          ]
        },
        {
          "output_type": "execute_result",
          "data": {
            "text/plain": [
              "<keras.callbacks.History at 0x7f0b53558c10>"
            ]
          },
          "metadata": {},
          "execution_count": 53
        }
      ]
    },
    {
      "cell_type": "code",
      "source": [
        "model = keras.models.Sequential()\n",
        "model.add(keras.layers.Conv2D(32, kernel_size=(3, 3), activation='relu', input_shape=[50, 50, 1])) \n",
        "model.add(keras.layers.BatchNormalization(axis=-1)) \n",
        "model.add(keras.layers.MaxPooling2D(pool_size=(2, 2)))\n",
        "model.add(keras.layers.Conv2D(32, kernel_size=(3, 3), activation='relu'))  \n",
        "model.add(keras.layers.MaxPooling2D(pool_size=(2, 2)))\n",
        "model.add(keras.layers.BatchNormalization(axis=-1))\n",
        "model.add(keras.layers.Flatten())\n",
        "model.add(keras.layers.Dense(64, activation='relu'))\n",
        "model.add(keras.layers.Dense(16, activation='relu'))\n",
        "model.add(keras.layers.Dense(8, activation='softmax'))\n",
        "model.compile(loss=\"sparse_categorical_crossentropy\",\n",
        "              optimizer=\"Adam\",\n",
        "              metrics=[\"accuracy\"])\n",
        "model.summary()"
      ],
      "metadata": {
        "colab": {
          "base_uri": "https://localhost:8080/"
        },
        "id": "JuInPo6kwYx4",
        "outputId": "d2048a64-224e-41d3-fcee-e25ee6f1a858"
      },
      "id": "JuInPo6kwYx4",
      "execution_count": 66,
      "outputs": [
        {
          "output_type": "stream",
          "name": "stdout",
          "text": [
            "Model: \"sequential_18\"\n",
            "_________________________________________________________________\n",
            " Layer (type)                Output Shape              Param #   \n",
            "=================================================================\n",
            " conv2d_28 (Conv2D)          (None, 48, 48, 32)        320       \n",
            "                                                                 \n",
            " batch_normalization_28 (Bat  (None, 48, 48, 32)       128       \n",
            " chNormalization)                                                \n",
            "                                                                 \n",
            " max_pooling2d_28 (MaxPoolin  (None, 24, 24, 32)       0         \n",
            " g2D)                                                            \n",
            "                                                                 \n",
            " conv2d_29 (Conv2D)          (None, 22, 22, 32)        9248      \n",
            "                                                                 \n",
            " max_pooling2d_29 (MaxPoolin  (None, 11, 11, 32)       0         \n",
            " g2D)                                                            \n",
            "                                                                 \n",
            " batch_normalization_29 (Bat  (None, 11, 11, 32)       128       \n",
            " chNormalization)                                                \n",
            "                                                                 \n",
            " flatten_18 (Flatten)        (None, 3872)              0         \n",
            "                                                                 \n",
            " dense_52 (Dense)            (None, 64)                247872    \n",
            "                                                                 \n",
            " dense_53 (Dense)            (None, 16)                1040      \n",
            "                                                                 \n",
            " dense_54 (Dense)            (None, 8)                 136       \n",
            "                                                                 \n",
            "=================================================================\n",
            "Total params: 258,872\n",
            "Trainable params: 258,744\n",
            "Non-trainable params: 128\n",
            "_________________________________________________________________\n"
          ]
        }
      ]
    },
    {
      "cell_type": "code",
      "source": [
        "loss = model.fit(X_train, y_train, validation_data=(X_test, y_test), epochs=25)"
      ],
      "metadata": {
        "colab": {
          "base_uri": "https://localhost:8080/"
        },
        "id": "ekMUqGqTwY2l",
        "outputId": "1d0842e0-4ce3-4d01-c114-7557d0ce316f"
      },
      "id": "ekMUqGqTwY2l",
      "execution_count": 67,
      "outputs": [
        {
          "output_type": "stream",
          "name": "stdout",
          "text": [
            "Epoch 1/25\n",
            "235/235 [==============================] - 4s 12ms/step - loss: 1.1703 - accuracy: 0.5731 - val_loss: 6.9513 - val_accuracy: 0.1896\n",
            "Epoch 2/25\n",
            "235/235 [==============================] - 2s 10ms/step - loss: 0.4777 - accuracy: 0.8283 - val_loss: 10.6716 - val_accuracy: 0.1896\n",
            "Epoch 3/25\n",
            "235/235 [==============================] - 2s 10ms/step - loss: 0.2373 - accuracy: 0.9423 - val_loss: 2.6886 - val_accuracy: 0.3384\n",
            "Epoch 4/25\n",
            "235/235 [==============================] - 2s 10ms/step - loss: 0.1368 - accuracy: 0.9703 - val_loss: 0.2441 - val_accuracy: 0.9452\n",
            "Epoch 5/25\n",
            "235/235 [==============================] - 3s 11ms/step - loss: 0.0896 - accuracy: 0.9801 - val_loss: 0.2395 - val_accuracy: 0.9564\n",
            "Epoch 6/25\n",
            "235/235 [==============================] - 3s 11ms/step - loss: 0.0648 - accuracy: 0.9836 - val_loss: 0.2565 - val_accuracy: 0.9488\n",
            "Epoch 7/25\n",
            "235/235 [==============================] - 3s 11ms/step - loss: 0.0439 - accuracy: 0.9871 - val_loss: 0.2291 - val_accuracy: 0.9624\n",
            "Epoch 8/25\n",
            "235/235 [==============================] - 2s 10ms/step - loss: 0.0422 - accuracy: 0.9875 - val_loss: 0.3020 - val_accuracy: 0.9532\n",
            "Epoch 9/25\n",
            "235/235 [==============================] - 2s 10ms/step - loss: 0.0269 - accuracy: 0.9925 - val_loss: 0.3576 - val_accuracy: 0.9428\n",
            "Epoch 10/25\n",
            "235/235 [==============================] - 2s 10ms/step - loss: 0.0210 - accuracy: 0.9937 - val_loss: 0.2597 - val_accuracy: 0.9652\n",
            "Epoch 11/25\n",
            "235/235 [==============================] - 3s 11ms/step - loss: 0.0255 - accuracy: 0.9933 - val_loss: 0.2793 - val_accuracy: 0.9588\n",
            "Epoch 12/25\n",
            "235/235 [==============================] - 3s 11ms/step - loss: 0.0190 - accuracy: 0.9956 - val_loss: 0.2484 - val_accuracy: 0.9692\n",
            "Epoch 13/25\n",
            "235/235 [==============================] - 2s 10ms/step - loss: 0.0211 - accuracy: 0.9941 - val_loss: 0.8887 - val_accuracy: 0.8220\n",
            "Epoch 14/25\n",
            "235/235 [==============================] - 2s 10ms/step - loss: 0.0566 - accuracy: 0.9841 - val_loss: 0.3331 - val_accuracy: 0.9472\n",
            "Epoch 15/25\n",
            "235/235 [==============================] - 3s 11ms/step - loss: 0.0307 - accuracy: 0.9901 - val_loss: 0.3835 - val_accuracy: 0.9396\n",
            "Epoch 16/25\n",
            "235/235 [==============================] - 2s 10ms/step - loss: 0.0186 - accuracy: 0.9948 - val_loss: 0.2985 - val_accuracy: 0.9668\n",
            "Epoch 17/25\n",
            "235/235 [==============================] - 2s 10ms/step - loss: 0.0167 - accuracy: 0.9949 - val_loss: 0.3544 - val_accuracy: 0.9532\n",
            "Epoch 18/25\n",
            "235/235 [==============================] - 3s 11ms/step - loss: 0.0135 - accuracy: 0.9964 - val_loss: 0.3706 - val_accuracy: 0.9580\n",
            "Epoch 19/25\n",
            "235/235 [==============================] - 3s 11ms/step - loss: 0.0088 - accuracy: 0.9973 - val_loss: 0.2868 - val_accuracy: 0.9700\n",
            "Epoch 20/25\n",
            "235/235 [==============================] - 2s 10ms/step - loss: 0.0122 - accuracy: 0.9964 - val_loss: 0.8570 - val_accuracy: 0.8668\n",
            "Epoch 21/25\n",
            "235/235 [==============================] - 2s 10ms/step - loss: 0.0206 - accuracy: 0.9943 - val_loss: 0.5483 - val_accuracy: 0.8916\n",
            "Epoch 22/25\n",
            "235/235 [==============================] - 2s 10ms/step - loss: 0.0469 - accuracy: 0.9881 - val_loss: 0.3882 - val_accuracy: 0.9464\n",
            "Epoch 23/25\n",
            "235/235 [==============================] - 3s 11ms/step - loss: 0.0197 - accuracy: 0.9944 - val_loss: 0.4279 - val_accuracy: 0.9460\n",
            "Epoch 24/25\n",
            "235/235 [==============================] - 3s 14ms/step - loss: 0.0082 - accuracy: 0.9983 - val_loss: 0.4743 - val_accuracy: 0.9436\n",
            "Epoch 25/25\n",
            "235/235 [==============================] - 2s 10ms/step - loss: 0.0063 - accuracy: 0.9987 - val_loss: 0.3021 - val_accuracy: 0.9756\n"
          ]
        }
      ]
    },
    {
      "cell_type": "code",
      "source": [
        "model = keras.models.Sequential()\n",
        "model.add(keras.layers.Conv2D(32, kernel_size=(3, 3), activation='relu', input_shape=[50, 50, 1])) \n",
        "model.add(keras.layers.BatchNormalization(axis=-1)) \n",
        "model.add(keras.layers.MaxPooling2D(pool_size=(2, 2)))\n",
        "model.add(keras.layers.Conv2D(32, kernel_size=(3, 3), activation='relu'))  \n",
        "model.add(keras.layers.BatchNormalization(axis=-1))\n",
        "model.add(keras.layers.MaxPooling2D(pool_size=(2, 2)))\n",
        "model.add(keras.layers.Conv2D(32, kernel_size=(3, 3), activation='relu'))  \n",
        "model.add(keras.layers.BatchNormalization(axis=-1))\n",
        "model.add(keras.layers.MaxPooling2D(pool_size=(2, 2)))\n",
        "\n",
        "model.add(keras.layers.Flatten())\n",
        "model.add(keras.layers.Dense(64, activation='relu'))\n",
        "model.add(keras.layers.Dense(16, activation='relu'))\n",
        "model.add(keras.layers.Dense(8, activation='softmax'))\n",
        "model.compile(loss=\"sparse_categorical_crossentropy\",\n",
        "              optimizer=\"Adam\",\n",
        "              metrics=[\"accuracy\"])\n",
        "model.summary()"
      ],
      "metadata": {
        "colab": {
          "base_uri": "https://localhost:8080/"
        },
        "id": "M81iqlY746h4",
        "outputId": "41251009-b6f4-49ce-a4fd-00caf25a44ef"
      },
      "id": "M81iqlY746h4",
      "execution_count": 148,
      "outputs": [
        {
          "output_type": "stream",
          "name": "stdout",
          "text": [
            "Model: \"sequential_46\"\n",
            "_________________________________________________________________\n",
            " Layer (type)                Output Shape              Param #   \n",
            "=================================================================\n",
            " conv2d_100 (Conv2D)         (None, 48, 48, 32)        320       \n",
            "                                                                 \n",
            " batch_normalization_100 (Ba  (None, 48, 48, 32)       128       \n",
            " tchNormalization)                                               \n",
            "                                                                 \n",
            " max_pooling2d_100 (MaxPooli  (None, 24, 24, 32)       0         \n",
            " ng2D)                                                           \n",
            "                                                                 \n",
            " conv2d_101 (Conv2D)         (None, 22, 22, 32)        9248      \n",
            "                                                                 \n",
            " batch_normalization_101 (Ba  (None, 22, 22, 32)       128       \n",
            " tchNormalization)                                               \n",
            "                                                                 \n",
            " max_pooling2d_101 (MaxPooli  (None, 11, 11, 32)       0         \n",
            " ng2D)                                                           \n",
            "                                                                 \n",
            " conv2d_102 (Conv2D)         (None, 9, 9, 32)          9248      \n",
            "                                                                 \n",
            " batch_normalization_102 (Ba  (None, 9, 9, 32)         128       \n",
            " tchNormalization)                                               \n",
            "                                                                 \n",
            " max_pooling2d_102 (MaxPooli  (None, 4, 4, 32)         0         \n",
            " ng2D)                                                           \n",
            "                                                                 \n",
            " flatten_46 (Flatten)        (None, 512)               0         \n",
            "                                                                 \n",
            " dense_136 (Dense)           (None, 64)                32832     \n",
            "                                                                 \n",
            " dense_137 (Dense)           (None, 16)                1040      \n",
            "                                                                 \n",
            " dense_138 (Dense)           (None, 8)                 136       \n",
            "                                                                 \n",
            "=================================================================\n",
            "Total params: 53,208\n",
            "Trainable params: 53,016\n",
            "Non-trainable params: 192\n",
            "_________________________________________________________________\n"
          ]
        }
      ]
    },
    {
      "cell_type": "code",
      "source": [
        "loss = model.fit(X_train, y_train, validation_data=(X_test, y_test), epochs=10)"
      ],
      "metadata": {
        "colab": {
          "base_uri": "https://localhost:8080/"
        },
        "id": "JDjTQ_1z46mo",
        "outputId": "2fe3c06d-21c0-411c-973a-2ff7755ef7de"
      },
      "id": "JDjTQ_1z46mo",
      "execution_count": 150,
      "outputs": [
        {
          "output_type": "stream",
          "name": "stdout",
          "text": [
            "Epoch 1/10\n",
            "235/235 [==============================] - 3s 11ms/step - loss: 0.0530 - accuracy: 0.9847 - val_loss: 0.2475 - val_accuracy: 0.9600\n",
            "Epoch 2/10\n",
            "235/235 [==============================] - 3s 12ms/step - loss: 0.0354 - accuracy: 0.9896 - val_loss: 0.2404 - val_accuracy: 0.9696\n",
            "Epoch 3/10\n",
            "235/235 [==============================] - 3s 12ms/step - loss: 0.0450 - accuracy: 0.9863 - val_loss: 0.2907 - val_accuracy: 0.9504\n",
            "Epoch 4/10\n",
            "235/235 [==============================] - 3s 11ms/step - loss: 0.0430 - accuracy: 0.9873 - val_loss: 0.2411 - val_accuracy: 0.9664\n",
            "Epoch 5/10\n",
            "235/235 [==============================] - 3s 12ms/step - loss: 0.0386 - accuracy: 0.9871 - val_loss: 0.2366 - val_accuracy: 0.9772\n",
            "Epoch 6/10\n",
            "235/235 [==============================] - 3s 11ms/step - loss: 0.0333 - accuracy: 0.9897 - val_loss: 0.2701 - val_accuracy: 0.9716\n",
            "Epoch 7/10\n",
            "235/235 [==============================] - 3s 12ms/step - loss: 0.0255 - accuracy: 0.9915 - val_loss: 0.2538 - val_accuracy: 0.9764\n",
            "Epoch 8/10\n",
            "235/235 [==============================] - 3s 12ms/step - loss: 0.0208 - accuracy: 0.9940 - val_loss: 0.2798 - val_accuracy: 0.9600\n",
            "Epoch 9/10\n",
            "235/235 [==============================] - 3s 11ms/step - loss: 0.0233 - accuracy: 0.9927 - val_loss: 0.3187 - val_accuracy: 0.9672\n",
            "Epoch 10/10\n",
            "235/235 [==============================] - 3s 12ms/step - loss: 0.0264 - accuracy: 0.9900 - val_loss: 0.2988 - val_accuracy: 0.9628\n"
          ]
        }
      ]
    },
    {
      "cell_type": "code",
      "source": [
        "pred = model.predict(X_test).argmax(axis=1)\n",
        "\n",
        "print('Accuracy on test set - {0:.02%}'.format((pred == y_test).mean()))"
      ],
      "metadata": {
        "colab": {
          "base_uri": "https://localhost:8080/"
        },
        "id": "ddF4h39Gw-Fl",
        "outputId": "12a9bf03-4ebd-4eed-87c1-24cfe1dc64f5"
      },
      "id": "ddF4h39Gw-Fl",
      "execution_count": 151,
      "outputs": [
        {
          "output_type": "stream",
          "name": "stdout",
          "text": [
            "Accuracy on test set - 96.28%\n"
          ]
        }
      ]
    },
    {
      "cell_type": "code",
      "execution_count": 152,
      "id": "16876d54",
      "metadata": {
        "gradient": {
          "editing": false,
          "id": "16876d54",
          "kernelId": ""
        },
        "id": "16876d54"
      },
      "outputs": [],
      "source": [
        "model.save('model13.h5')"
      ]
    },
    {
      "cell_type": "code",
      "source": [
        "model = keras.models.load_model('model13.h5')\n",
        "evaluate('flatland_train.data', model)"
      ],
      "metadata": {
        "colab": {
          "base_uri": "https://localhost:8080/"
        },
        "id": "38VMWZqhy4v_",
        "outputId": "13e43630-5505-4ebe-96b1-0b15d2c6ce92"
      },
      "id": "38VMWZqhy4v_",
      "execution_count": 153,
      "outputs": [
        {
          "output_type": "execute_result",
          "data": {
            "text/plain": [
              "0.9825"
            ]
          },
          "metadata": {},
          "execution_count": 153
        }
      ]
    }
  ],
  "metadata": {
    "kernelspec": {
      "display_name": "Python 3 (ipykernel)",
      "language": "python",
      "name": "python3"
    },
    "language_info": {
      "codemirror_mode": {
        "name": "ipython",
        "version": 3
      },
      "file_extension": ".py",
      "mimetype": "text/x-python",
      "name": "python",
      "nbconvert_exporter": "python",
      "pygments_lexer": "ipython3",
      "version": "3.8.10"
    },
    "colab": {
      "name": "AI_VIKTORIJA (1).ipynb",
      "provenance": [],
      "collapsed_sections": []
    },
    "accelerator": "GPU"
  },
  "nbformat": 4,
  "nbformat_minor": 5
}